{
 "cells": [
  {
   "cell_type": "code",
   "execution_count": 1,
   "metadata": {},
   "outputs": [
    {
     "ename": "ErrorException",
     "evalue": "/home/alexiss/VNE/solver-undirected/notebooks/utils/file_reader.jl is not a file",
     "output_type": "error",
     "traceback": [
      "/home/alexiss/VNE/solver-undirected/notebooks/utils/file_reader.jl is not a file\n",
      "\n",
      "Stacktrace:\n",
      " [1] includet(mod::Module, file::String)\n",
      "   @ Revise ~/.julia/packages/Revise/bAgL0/src/packagedef.jl:1026\n",
      " [2] includet(file::String)\n",
      "   @ Revise ~/.julia/packages/Revise/bAgL0/src/packagedef.jl:1031\n",
      " [3] top-level scope\n",
      "   @ ~/VNE/solver-undirected/notebooks/visu.ipynb:2"
     ]
    }
   ],
   "source": [
    "using Revise\n",
    "includet(\"utils/file_reader.jl\")\n",
    "includet(\"utils/some_data.jl\")\n",
    "includet(\"utils/utils_graph.jl\")\n",
    "includet(\"resolution/path_generation.jl\")\n",
    "using JuMP, CPLEX\n",
    "\n",
    "using GraphRecipes\n",
    "using Plots\n"
   ]
  },
  {
   "cell_type": "code",
   "execution_count": 2,
   "metadata": {},
   "outputs": [
    {
     "ename": "UndefVarError",
     "evalue": "UndefVarError: `get_instance_from_folder` not defined",
     "output_type": "error",
     "traceback": [
      "UndefVarError: `get_instance_from_folder` not defined\n",
      "\n",
      "Stacktrace:\n",
      " [1] top-level scope\n",
      "   @ ~/VNE/solver-undirected/notebooks/visu.ipynb:1"
     ]
    }
   ],
   "source": [
    "instance = get_instance_from_folder(\"instances/Janet\")"
   ]
  },
  {
   "cell_type": "code",
   "execution_count": 3,
   "metadata": {},
   "outputs": [
    {
     "ename": "UndefVarError",
     "evalue": "UndefVarError: `instance` not defined",
     "output_type": "error",
     "traceback": [
      "UndefVarError: `instance` not defined\n",
      "\n",
      "Stacktrace:\n",
      " [1] top-level scope\n",
      "   @ ~/VNE/solver-undirected/notebooks/visu.ipynb:1"
     ]
    }
   ],
   "source": [
    "g = instance.substrate_network\n",
    "w = []\n",
    "for i_node in 1:nv(g)\n",
    "    if i_node < 10\n",
    "        push!(w, 10)\n",
    "    else\n",
    "        push!(w, 1)\n",
    "    end\n",
    "end\n",
    "graphplot(g, \n",
    "    node_weights = w,\n",
    "    names=string.(1:nv(g)),\n",
    "    curvature_scalar=0.01, \n",
    "    node_size = 0.2)"
   ]
  },
  {
   "cell_type": "code",
   "execution_count": 3,
   "metadata": {},
   "outputs": [],
   "source": [
    "using Graphs\n",
    "using MetaGraphsNext"
   ]
  },
  {
   "cell_type": "code",
   "execution_count": 15,
   "metadata": {},
   "outputs": [
    {
     "data": {
      "text/plain": [
       "Meta graph based on a SimpleDiGraph{Int64} with vertex labels of type Int64, vertex metadata of type Dict, edge metadata of type Dict, graph metadata given by \"additive colors\", and default weight 1.0"
      ]
     },
     "metadata": {},
     "output_type": "display_data"
    }
   ],
   "source": [
    "graph = MetaGraph(\n",
    "    DiGraph();  # underlying graph structure\n",
    "    label_type=Int,  # color name\n",
    "    vertex_data_type=Dict,  # RGB code\n",
    "    edge_data_type=Dict,  # result of the addition between two colors\n",
    "    graph_data=\"additive colors\",  # tag for the whole graph\n",
    ")"
   ]
  },
  {
   "cell_type": "code",
   "execution_count": 16,
   "metadata": {},
   "outputs": [
    {
     "ename": "MethodError",
     "evalue": "MethodError: no method matching add_vertex!(::MetaGraph{Int64, SimpleDiGraph{Int64}, Int64, Dict, Dict, String, MetaGraphsNext.var\"#11#13\", Float64})\n\nClosest candidates are:\n  add_vertex!(::MetaGraph, !Matched::Any, !Matched::Any)\n   @ MetaGraphsNext ~/.julia/packages/MetaGraphsNext/KWB3R/src/graphs.jl:149\n  add_vertex!(!Matched::SimpleDiGraph{T}) where T\n   @ Graphs ~/.julia/packages/Graphs/FXxqo/src/SimpleGraphs/simpledigraph.jl:491\n  add_vertex!(!Matched::SimpleGraph{T}) where T\n   @ Graphs ~/.julia/packages/Graphs/FXxqo/src/SimpleGraphs/simplegraph.jl:557\n  ...\n",
     "output_type": "error",
     "traceback": [
      "MethodError: no method matching add_vertex!(::MetaGraph{Int64, SimpleDiGraph{Int64}, Int64, Dict, Dict, String, MetaGraphsNext.var\"#11#13\", Float64})\n",
      "\n",
      "Closest candidates are:\n",
      "  add_vertex!(::MetaGraph, !Matched::Any, !Matched::Any)\n",
      "   @ MetaGraphsNext ~/.julia/packages/MetaGraphsNext/KWB3R/src/graphs.jl:149\n",
      "  add_vertex!(!Matched::SimpleDiGraph{T}) where T\n",
      "   @ Graphs ~/.julia/packages/Graphs/FXxqo/src/SimpleGraphs/simpledigraph.jl:491\n",
      "  add_vertex!(!Matched::SimpleGraph{T}) where T\n",
      "   @ Graphs ~/.julia/packages/Graphs/FXxqo/src/SimpleGraphs/simplegraph.jl:557\n",
      "  ...\n",
      "\n",
      "\n",
      "Stacktrace:\n",
      " [1] (::Graphs.var\"#5#6\"{MetaGraph{Int64, SimpleDiGraph{Int64}, Int64, Dict, Dict, String, MetaGraphsNext.var\"#11#13\", Float64}})(i::Int64)\n",
      "   @ Graphs ./none:0\n",
      " [2] iterate\n",
      "   @ ./generator.jl:47 [inlined]\n",
      " [3] collect\n",
      "   @ ./array.jl:782 [inlined]\n",
      " [4] add_vertices!(g::MetaGraph{Int64, SimpleDiGraph{Int64}, Int64, Dict, Dict, String, MetaGraphsNext.var\"#11#13\", Float64}, n::Int64)\n",
      "   @ Graphs ~/.julia/packages/Graphs/FXxqo/src/core.jl:45\n",
      " [5] top-level scope\n",
      "   @ ~/VNE/solver/visu.ipynb:1"
     ]
    }
   ],
   "source": [
    "add_vertices!(graph, 3)"
   ]
  },
  {
   "cell_type": "code",
   "execution_count": null,
   "metadata": {},
   "outputs": [],
   "source": []
  }
 ],
 "metadata": {
  "kernelspec": {
   "display_name": "Julia 1.9.3",
   "language": "julia",
   "name": "julia-1.9"
  },
  "language_info": {
   "file_extension": ".jl",
   "mimetype": "application/julia",
   "name": "julia",
   "version": "1.9.3"
  }
 },
 "nbformat": 4,
 "nbformat_minor": 2
}
