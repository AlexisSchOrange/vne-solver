{
 "cells": [
  {
   "cell_type": "code",
   "execution_count": 6,
   "metadata": {},
   "outputs": [],
   "source": [
    "using Revise\n",
    "includet(\"utils/file_reader.jl\")\n",
    "includet(\"utils/some_data.jl\")\n",
    "includet(\"utils/utils_graph.jl\")\n",
    "includet(\"resolution/compact/compact_formulation.jl\")\n",
    "includet(\"resolution/path/path_generation.jl\")\n",
    "includet(\"utils/visu.jl\")"
   ]
  },
  {
   "cell_type": "code",
   "execution_count": 7,
   "metadata": {},
   "outputs": [
    {
     "data": {
      "text/plain": [
       "InstanceVNE(Any[Meta graph based on a SimpleDiGraph{Int64} with vertex labels of type Int64, vertex metadata of type Dict, edge metadata of type Dict, graph metadata given by Dict(:type => \"virtual\", :name => \"virt\"), and default weight 1.0], Meta graph based on a SimpleDiGraph{Int64} with vertex labels of type Int64, vertex metadata of type Dict, edge metadata of type Dict, graph metadata given by Dict(:type => \"substrate\", :name => \"Aarnet\"), and default weight 1.0)"
      ]
     },
     "metadata": {},
     "output_type": "display_data"
    }
   ],
   "source": [
    "instance = get_instance_from_folder(\"instances/tests2/pathbetter\")"
   ]
  },
  {
   "cell_type": "code",
   "execution_count": 8,
   "metadata": {},
   "outputs": [
    {
     "data": {
      "image/png": "[encoded data removed]",
      "image/svg+xml": [
       "<?xml version=\"1.0\" encoding=\"utf-8\"?>\n",
       "<svg xmlns=\"http://www.w3.org/2000/svg\" xmlns:xlink=\"http://www.w3.org/1999/xlink\" width=\"600\" height=\"400\" viewBox=\"0 0 2400 1600\">\n",
       "<defs>\n",
       "  <clipPath id=\"clip080\">\n",
       "    <rect x=\"0\" y=\"0\" width=\"2400\" height=\"1600\"/>\n",
       "  </clipPath>\n",
       "</defs>\n",
       "<path clip-path=\"url(#clip080)\" d=\"M0 1600 L2400 1600 L2400 0 L0 0  Z\" fill=\"#ffffff\" fill-rule=\"evenodd\" fill-opacity=\"1\"/>\n",
       "<defs>\n",
       "  <clipPath id=\"clip081\">\n",
       "    <rect x=\"480\" y=\"0\" width=\"1681\" height=\"1600\"/>\n",
       "  </clipPath>\n",
       "</defs>\n",
       "<path clip-path=\"url(#clip080)\" d=\"M447.244 1552.76 L1952.76 1552.76 L1952.76 47.2441 L447.244 47.2441  Z\" fill=\"#ffffff\" fill-rule=\"evenodd\" fill-opacity=\"1\"/>\n",
       "<defs>\n",
       "  <clipPath id=\"clip082\">\n",
       "    <rect x=\"447\" y=\"47\" width=\"1507\" height=\"1507\"/>\n",
       "  </clipPath>\n",
       "</defs>\n",
       "<polyline clip-path=\"url(#clip082)\" style=\"stroke:#000000; stroke-linecap:round; stroke-linejoin:round; stroke-width:4; stroke-opacity:1; fill:none\" points=\"1737.68,262.317 1715.49,285.416 1693.31,308.507 1671.14,331.581 1648.99,354.629 1626.85,377.644 1604.75,400.616 1582.67,423.538 1560.64,446.401 1538.65,469.197 1516.71,491.916 1494.83,514.551 1473.01,537.094 1451.25,559.535 1429.56,581.866 1407.96,604.08 1386.43,626.167 1365,648.118 1343.65,669.927 1322.41,691.584 1301.27,713.08 1280.25,734.408 1259.34,755.558 1238.55,776.523 1217.89,797.294 1197.36,817.863 1176.96,838.229 1156.69,858.402 1136.54,878.389 1116.51,898.199 1096.59,917.841 1076.77,937.322 1057.06,956.651 1037.43,975.837 1017.9,994.887 998.449,1013.81 979.075,1032.62 959.773,1051.31 940.538,1069.91 921.363,1088.41 902.244,1106.83 883.174,1125.17 864.149,1143.45 845.163,1161.66 826.209,1179.83 807.284,1197.95 788.38,1216.04 769.493,1234.1 750.617,1252.15 731.747,1270.19 \"/>\n",
       "<polyline clip-path=\"url(#clip082)\" style=\"stroke:#000000; stroke-linecap:round; stroke-linejoin:round; stroke-width:4; stroke-opacity:1; fill:none\" points=\"770.208,1258.33 731.747,1270.19 745.332,1232.3 \"/>\n",
       "<polyline clip-path=\"url(#clip082)\" style=\"stroke:#000000; stroke-linecap:round; stroke-linejoin:round; stroke-width:4; stroke-opacity:1; fill:none\" points=\"731.747,1270.19 750.617,1252.15 \"/>\n",
       "<path clip-path=\"url(#clip082)\" d=\"M1846.08 262.317 L1791.88 168.443 L1683.48 168.443 L1629.29 262.317 L1683.48 356.192 L1791.88 356.192 L1846.08 262.317 L1846.08 262.317  Z\" fill=\"#009af9\" fill-rule=\"evenodd\" fill-opacity=\"1\"/>\n",
       "<polyline clip-path=\"url(#clip082)\" style=\"stroke:#000000; stroke-linecap:round; stroke-linejoin:round; stroke-width:4; stroke-opacity:1; fill:none\" points=\"1846.08,262.317 1791.88,168.443 1683.48,168.443 1629.29,262.317 1683.48,356.192 1791.88,356.192 1846.08,262.317 \"/>\n",
       "<path clip-path=\"url(#clip082)\" d=\"M770.714 1337.68 L716.516 1243.81 L608.119 1243.81 L553.92 1337.68 L608.119 1431.56 L716.516 1431.56 L770.714 1337.68 L770.714 1337.68  Z\" fill=\"#009af9\" fill-rule=\"evenodd\" fill-opacity=\"1\"/>\n",
       "<polyline clip-path=\"url(#clip082)\" style=\"stroke:#000000; stroke-linecap:round; stroke-linejoin:round; stroke-width:4; stroke-opacity:1; fill:none\" points=\"770.714,1337.68 716.516,1243.81 608.119,1243.81 553.92,1337.68 608.119,1431.56 716.516,1431.56 770.714,1337.68 \"/>\n",
       "<path clip-path=\"url(#clip082)\" d=\"M1737.68 263.117 L1736.99 262.717 L1736.99 261.917 L1737.68 261.517 L1738.38 261.917 L1738.38 262.717 Z\" fill=\"#009af9\" fill-rule=\"evenodd\" fill-opacity=\"1\" stroke=\"#000000\" stroke-opacity=\"1\" stroke-width=\"3.2\"/>\n",
       "<path clip-path=\"url(#clip082)\" d=\"M662.317 1338.48 L661.624 1338.08 L661.624 1337.28 L662.317 1336.88 L663.01 1337.28 L663.01 1338.08 Z\" fill=\"#009af9\" fill-rule=\"evenodd\" fill-opacity=\"1\" stroke=\"#000000\" stroke-opacity=\"1\" stroke-width=\"3.2\"/>\n",
       "<path clip-path=\"url(#clip080)\" d=\"M1729.27 273.994 L1735.95 273.994 L1735.95 250.924 L1728.68 252.382 L1728.68 248.656 L1735.91 247.197 L1740 247.197 L1740 273.994 L1746.69 273.994 L1746.69 277.437 L1729.27 277.437 L1729.27 273.994 Z\" fill=\"#000000\" fill-rule=\"nonzero\" fill-opacity=\"1\" /><path clip-path=\"url(#clip080)\" d=\"M657.638 1349.36 L671.918 1349.36 L671.918 1352.8 L652.717 1352.8 L652.717 1349.36 Q655.046 1346.95 659.056 1342.9 Q663.087 1338.83 664.12 1337.65 Q666.085 1335.44 666.854 1333.93 Q667.644 1332.39 667.644 1330.91 Q667.644 1328.5 665.943 1326.98 Q664.262 1325.46 661.548 1325.46 Q659.623 1325.46 657.476 1326.13 Q655.35 1326.8 652.919 1328.15 L652.919 1324.02 Q655.39 1323.03 657.537 1322.52 Q659.684 1322.02 661.467 1322.02 Q666.166 1322.02 668.961 1324.37 Q671.756 1326.71 671.756 1330.64 Q671.756 1332.51 671.047 1334.19 Q670.358 1335.85 668.515 1338.12 Q668.009 1338.71 665.295 1341.52 Q662.581 1344.32 657.638 1349.36 Z\" fill=\"#000000\" fill-rule=\"nonzero\" fill-opacity=\"1\" /></svg>\n"
      ],
      "text/html": [
       "<?xml version=\"1.0\" encoding=\"utf-8\"?>\n",
       "<svg xmlns=\"http://www.w3.org/2000/svg\" xmlns:xlink=\"http://www.w3.org/1999/xlink\" width=\"600\" height=\"400\" viewBox=\"0 0 2400 1600\">\n",
       "<defs>\n",
       "  <clipPath id=\"clip110\">\n",
       "    <rect x=\"0\" y=\"0\" width=\"2400\" height=\"1600\"/>\n",
       "  </clipPath>\n",
       "</defs>\n",
       "<path clip-path=\"url(#clip110)\" d=\"M0 1600 L2400 1600 L2400 0 L0 0  Z\" fill=\"#ffffff\" fill-rule=\"evenodd\" fill-opacity=\"1\"/>\n",
       "<defs>\n",
       "  <clipPath id=\"clip111\">\n",
       "    <rect x=\"480\" y=\"0\" width=\"1681\" height=\"1600\"/>\n",
       "  </clipPath>\n",
       "</defs>\n",
       "<path clip-path=\"url(#clip110)\" d=\"M447.244 1552.76 L1952.76 1552.76 L1952.76 47.2441 L447.244 47.2441  Z\" fill=\"#ffffff\" fill-rule=\"evenodd\" fill-opacity=\"1\"/>\n",
       "<defs>\n",
       "  <clipPath id=\"clip112\">\n",
       "    <rect x=\"447\" y=\"47\" width=\"1507\" height=\"1507\"/>\n",
       "  </clipPath>\n",
       "</defs>\n",
       "<polyline clip-path=\"url(#clip112)\" style=\"stroke:#000000; stroke-linecap:round; stroke-linejoin:round; stroke-width:4; stroke-opacity:1; fill:none\" points=\"1737.68,262.317 1715.49,285.416 1693.31,308.507 1671.14,331.581 1648.99,354.629 1626.85,377.644 1604.75,400.616 1582.67,423.538 1560.64,446.401 1538.65,469.197 1516.71,491.916 1494.83,514.551 1473.01,537.094 1451.25,559.535 1429.56,581.866 1407.96,604.08 1386.43,626.167 1365,648.118 1343.65,669.927 1322.41,691.584 1301.27,713.08 1280.25,734.408 1259.34,755.558 1238.55,776.523 1217.89,797.294 1197.36,817.863 1176.96,838.229 1156.69,858.402 1136.54,878.389 1116.51,898.199 1096.59,917.841 1076.77,937.322 1057.06,956.651 1037.43,975.837 1017.9,994.887 998.449,1013.81 979.075,1032.62 959.773,1051.31 940.538,1069.91 921.363,1088.41 902.244,1106.83 883.174,1125.17 864.149,1143.45 845.163,1161.66 826.209,1179.83 807.284,1197.95 788.38,1216.04 769.493,1234.1 750.617,1252.15 731.747,1270.19 \"/>\n",
       "<polyline clip-path=\"url(#clip112)\" style=\"stroke:#000000; stroke-linecap:round; stroke-linejoin:round; stroke-width:4; stroke-opacity:1; fill:none\" points=\"770.208,1258.33 731.747,1270.19 745.332,1232.3 \"/>\n",
       "<polyline clip-path=\"url(#clip112)\" style=\"stroke:#000000; stroke-linecap:round; stroke-linejoin:round; stroke-width:4; stroke-opacity:1; fill:none\" points=\"731.747,1270.19 750.617,1252.15 \"/>\n",
       "<path clip-path=\"url(#clip112)\" d=\"M1846.08 262.317 L1791.88 168.443 L1683.48 168.443 L1629.29 262.317 L1683.48 356.192 L1791.88 356.192 L1846.08 262.317 L1846.08 262.317  Z\" fill=\"#009af9\" fill-rule=\"evenodd\" fill-opacity=\"1\"/>\n",
       "<polyline clip-path=\"url(#clip112)\" style=\"stroke:#000000; stroke-linecap:round; stroke-linejoin:round; stroke-width:4; stroke-opacity:1; fill:none\" points=\"1846.08,262.317 1791.88,168.443 1683.48,168.443 1629.29,262.317 1683.48,356.192 1791.88,356.192 1846.08,262.317 \"/>\n",
       "<path clip-path=\"url(#clip112)\" d=\"M770.714 1337.68 L716.516 1243.81 L608.119 1243.81 L553.92 1337.68 L608.119 1431.56 L716.516 1431.56 L770.714 1337.68 L770.714 1337.68  Z\" fill=\"#009af9\" fill-rule=\"evenodd\" fill-opacity=\"1\"/>\n",
       "<polyline clip-path=\"url(#clip112)\" style=\"stroke:#000000; stroke-linecap:round; stroke-linejoin:round; stroke-width:4; stroke-opacity:1; fill:none\" points=\"770.714,1337.68 716.516,1243.81 608.119,1243.81 553.92,1337.68 608.119,1431.56 716.516,1431.56 770.714,1337.68 \"/>\n",
       "<path clip-path=\"url(#clip112)\" d=\"M1737.68 263.117 L1736.99 262.717 L1736.99 261.917 L1737.68 261.517 L1738.38 261.917 L1738.38 262.717 Z\" fill=\"#009af9\" fill-rule=\"evenodd\" fill-opacity=\"1\" stroke=\"#000000\" stroke-opacity=\"1\" stroke-width=\"3.2\"/>\n",
       "<path clip-path=\"url(#clip112)\" d=\"M662.317 1338.48 L661.624 1338.08 L661.624 1337.28 L662.317 1336.88 L663.01 1337.28 L663.01 1338.08 Z\" fill=\"#009af9\" fill-rule=\"evenodd\" fill-opacity=\"1\" stroke=\"#000000\" stroke-opacity=\"1\" stroke-width=\"3.2\"/>\n",
       "<path clip-path=\"url(#clip110)\" d=\"M1729.27 273.994 L1735.95 273.994 L1735.95 250.924 L1728.68 252.382 L1728.68 248.656 L1735.91 247.197 L1740 247.197 L1740 273.994 L1746.69 273.994 L1746.69 277.437 L1729.27 277.437 L1729.27 273.994 Z\" fill=\"#000000\" fill-rule=\"nonzero\" fill-opacity=\"1\" /><path clip-path=\"url(#clip110)\" d=\"M657.638 1349.36 L671.918 1349.36 L671.918 1352.8 L652.717 1352.8 L652.717 1349.36 Q655.046 1346.95 659.056 1342.9 Q663.087 1338.83 664.12 1337.65 Q666.085 1335.44 666.854 1333.93 Q667.644 1332.39 667.644 1330.91 Q667.644 1328.5 665.943 1326.98 Q664.262 1325.46 661.548 1325.46 Q659.623 1325.46 657.476 1326.13 Q655.35 1326.8 652.919 1328.15 L652.919 1324.02 Q655.39 1323.03 657.537 1322.52 Q659.684 1322.02 661.467 1322.02 Q666.166 1322.02 668.961 1324.37 Q671.756 1326.71 671.756 1330.64 Q671.756 1332.51 671.047 1334.19 Q670.358 1335.85 668.515 1338.12 Q668.009 1338.71 665.295 1341.52 Q662.581 1344.32 657.638 1349.36 Z\" fill=\"#000000\" fill-rule=\"nonzero\" fill-opacity=\"1\" /></svg>\n"
      ]
     },
     "metadata": {},
     "output_type": "display_data"
    }
   ],
   "source": [
    "visu_graph(instance.v_networks[1])"
   ]
  },
  {
   "cell_type": "code",
   "execution_count": 9,
   "metadata": {},
   "outputs": [
    {
     "name": "stdout",
     "output_type": "stream",
     "text": [
      "Metagraph \n",
      "Node 1 with dem 1\n",
      "Node 2 with dem 1\n",
      "Edge Edge 1 => 2 with dem 1\n"
     ]
    }
   ],
   "source": [
    "print_virtual(instance.v_networks[1])"
   ]
  },
  {
   "cell_type": "code",
   "execution_count": 10,
   "metadata": {},
   "outputs": [
    {
     "data": {
      "image/png": "[encoded data removed]",
      "image/svg+xml": [
       "<?xml version=\"1.0\" encoding=\"utf-8\"?>\n",
       "<svg xmlns=\"http://www.w3.org/2000/svg\" xmlns:xlink=\"http://www.w3.org/1999/xlink\" width=\"600\" height=\"400\" viewBox=\"0 0 2400 1600\">\n",
       "<defs>\n",
       "  <clipPath id=\"clip140\">\n",
       "    <rect x=\"0\" y=\"0\" width=\"2400\" height=\"1600\"/>\n",
       "  </clipPath>\n",
       "</defs>\n",
       "<path clip-path=\"url(#clip140)\" d=\"M0 1600 L2400 1600 L2400 0 L0 0  Z\" fill=\"#ffffff\" fill-rule=\"evenodd\" fill-opacity=\"1\"/>\n",
       "<defs>\n",
       "  <clipPath id=\"clip141\">\n",
       "    <rect x=\"480\" y=\"0\" width=\"1681\" height=\"1600\"/>\n",
       "  </clipPath>\n",
       "</defs>\n",
       "<path clip-path=\"url(#clip140)\" d=\"M447.244 1552.76 L1952.76 1552.76 L1952.76 47.2441 L447.244 47.2441  Z\" fill=\"#ffffff\" fill-rule=\"evenodd\" fill-opacity=\"1\"/>\n",
       "<defs>\n",
       "  <clipPath id=\"clip142\">\n",
       "    <rect x=\"447\" y=\"47\" width=\"1507\" height=\"1507\"/>\n",
       "  </clipPath>\n",
       "</defs>\n",
       "<polyline clip-path=\"url(#clip142)\" style=\"stroke:#000000; stroke-linecap:round; stroke-linejoin:round; stroke-width:4; stroke-opacity:1; fill:none\" points=\"662.317,262.317 668.949,271.501 675.583,280.683 682.22,289.862 688.862,299.037 695.511,308.207 702.168,317.37 708.836,326.524 715.515,335.669 722.209,344.803 728.917,353.924 735.643,363.031 742.387,372.123 749.151,381.199 755.938,390.256 762.748,399.294 769.584,408.311 776.448,417.306 783.34,426.278 790.263,435.224 797.218,444.145 804.207,453.037 811.232,461.901 818.294,470.734 825.395,479.535 832.537,488.303 839.72,497.038 846.942,505.74 854.202,514.413 861.497,523.056 868.826,531.672 876.187,540.261 883.579,548.825 891,557.366 898.448,565.885 905.922,574.383 913.42,582.861 920.939,591.321 928.479,599.765 936.038,608.194 943.614,616.608 951.205,625.011 958.809,633.402 966.426,641.783 974.053,650.156 981.688,658.523 989.33,666.883 996.977,675.24 1004.63,683.593 1012.28,691.946 \"/>\n",
       "<polyline clip-path=\"url(#clip142)\" style=\"stroke:#000000; stroke-linecap:round; stroke-linejoin:round; stroke-width:4; stroke-opacity:1; fill:none\" points=\"1012.28,691.946 1005.65,682.762 999.015,673.58 992.378,664.401 985.736,655.226 979.087,646.056 972.429,636.893 965.762,627.739 959.082,618.594 952.389,609.461 945.68,600.339 938.955,591.232 932.211,582.14 925.446,573.065 918.659,564.007 911.849,554.969 905.013,545.952 898.15,536.957 891.258,527.985 884.335,519.039 877.38,510.118 870.391,501.226 863.366,492.362 856.304,483.529 849.202,474.728 842.06,465.96 834.877,457.225 827.655,448.523 820.396,439.85 813.101,431.207 805.772,422.591 798.41,414.002 791.018,405.438 783.597,396.897 776.149,388.378 768.675,379.881 761.178,371.402 753.658,362.942 746.118,354.498 738.559,346.069 730.984,337.655 723.393,329.252 715.788,320.861 708.171,312.48 700.545,304.107 692.909,295.74 685.267,287.38 677.62,279.023 669.969,270.67 662.317,262.317 \"/>\n",
       "<polyline clip-path=\"url(#clip142)\" style=\"stroke:#000000; stroke-linecap:round; stroke-linejoin:round; stroke-width:4; stroke-opacity:1; fill:none\" points=\"1012.28,691.946 1019.14,699.726 1026.01,707.504 1032.88,715.279 1039.75,723.049 1046.63,730.813 1053.51,738.569 1060.41,746.317 1067.32,754.053 1074.24,761.776 1081.17,769.486 1088.12,777.181 1095.08,784.858 1102.07,792.516 1109.07,800.155 1116.1,807.771 1123.15,815.365 1130.22,822.933 1137.32,830.475 1144.45,837.989 1151.61,845.474 1158.8,852.928 1166.02,860.349 1173.27,867.735 1180.57,875.087 1187.89,882.4 1195.26,889.677 1202.66,896.918 1210.1,904.125 1217.56,911.299 1225.06,918.442 1232.59,925.556 1240.15,932.642 1247.73,939.701 1255.34,946.736 1262.97,953.747 1270.62,960.736 1278.29,967.706 1285.98,974.656 1293.69,981.59 1301.41,988.508 1309.15,995.412 1316.9,1002.3 1324.66,1009.18 1332.43,1016.06 1340.21,1022.92 1347.99,1029.78 1355.78,1036.63 1363.57,1043.48 1371.36,1050.33 \"/>\n",
       "<polyline clip-path=\"url(#clip142)\" style=\"stroke:#000000; stroke-linecap:round; stroke-linejoin:round; stroke-width:4; stroke-opacity:1; fill:none\" points=\"1371.36,1050.33 1364.5,1042.55 1357.63,1034.77 1350.77,1026.99 1343.89,1019.22 1337.02,1011.46 1330.13,1003.7 1323.23,995.957 1316.33,988.221 1309.41,980.497 1302.47,972.787 1295.52,965.093 1288.56,957.416 1281.57,949.757 1274.57,942.119 1267.54,934.502 1260.5,926.909 1253.42,919.34 1246.32,911.798 1239.19,904.284 1232.03,896.8 1224.85,889.346 1217.62,881.925 1210.37,874.538 1203.08,867.187 1195.75,859.873 1188.38,852.596 1180.98,845.355 1173.55,838.149 1166.08,830.974 1158.58,823.831 1151.05,816.717 1143.5,809.632 1135.92,802.572 1128.31,795.538 1120.68,788.527 1113.03,781.537 1105.35,774.568 1097.66,767.617 1089.96,760.684 1082.23,753.766 1074.49,746.862 1066.74,739.97 1058.98,733.089 1051.21,726.218 1043.44,719.354 1035.65,712.497 1027.86,705.644 1020.07,698.794 1012.28,691.946 \"/>\n",
       "<polyline clip-path=\"url(#clip142)\" style=\"stroke:#000000; stroke-linecap:round; stroke-linejoin:round; stroke-width:4; stroke-opacity:1; fill:none\" points=\"1371.36,1050.33 1378.43,1056.71 1385.5,1063.09 1392.58,1069.47 1399.66,1075.84 1406.74,1082.2 1413.83,1088.56 1420.93,1094.91 1428.04,1101.24 1435.15,1107.56 1442.28,1113.86 1449.43,1120.15 1456.59,1126.42 1463.76,1132.67 1470.96,1138.89 1478.17,1145.09 1485.4,1151.27 1492.65,1157.42 1499.93,1163.53 1507.23,1169.62 1514.56,1175.67 1521.91,1181.69 1529.3,1187.68 1536.71,1193.62 1544.15,1199.53 1551.63,1205.39 1559.14,1211.22 1566.68,1217 1574.24,1222.74 1581.84,1228.45 1589.47,1234.13 1597.12,1239.77 1604.79,1245.38 1612.49,1250.96 1620.21,1256.52 1627.95,1262.04 1635.71,1267.55 1643.49,1273.03 1651.28,1278.49 1659.09,1283.93 1666.91,1289.36 1674.74,1294.76 1682.58,1300.16 1690.44,1305.54 1698.3,1310.91 1706.17,1316.28 1714.04,1321.64 1721.92,1326.99 1729.8,1332.34 1737.68,1337.68 \"/>\n",
       "<polyline clip-path=\"url(#clip142)\" style=\"stroke:#000000; stroke-linecap:round; stroke-linejoin:round; stroke-width:4; stroke-opacity:1; fill:none\" points=\"1737.68,1337.68 1730.61,1331.3 1723.54,1324.92 1716.47,1318.54 1709.39,1312.17 1702.31,1305.81 1695.22,1299.45 1688.12,1293.1 1681.01,1286.77 1673.89,1280.45 1666.76,1274.15 1659.62,1267.86 1652.46,1261.59 1645.28,1255.34 1638.09,1249.12 1630.88,1242.92 1623.65,1236.74 1616.39,1230.6 1609.11,1224.48 1601.81,1218.39 1594.49,1212.34 1587.13,1206.32 1579.75,1200.33 1572.34,1194.39 1564.89,1188.48 1557.42,1182.62 1549.91,1176.79 1542.37,1171.01 1534.8,1165.27 1527.2,1159.56 1519.58,1153.88 1511.93,1148.24 1504.25,1142.63 1496.56,1137.05 1488.84,1131.49 1481.1,1125.97 1473.34,1120.46 1465.56,1114.98 1457.77,1109.52 1449.96,1104.08 1442.14,1098.65 1434.31,1093.25 1426.46,1087.85 1418.61,1082.47 1410.75,1077.1 1402.88,1071.73 1395,1066.37 1387.13,1061.02 1379.25,1055.67 1371.36,1050.33 \"/>\n",
       "<path clip-path=\"url(#clip142)\" d=\"M725.549 262.317 L693.933 207.557 L630.701 207.557 L599.086 262.317 L630.701 317.077 L693.933 317.077 L725.549 262.317 L725.549 262.317  Z\" fill=\"#009af9\" fill-rule=\"evenodd\" fill-opacity=\"1\"/>\n",
       "<polyline clip-path=\"url(#clip142)\" style=\"stroke:#000000; stroke-linecap:round; stroke-linejoin:round; stroke-width:4; stroke-opacity:1; fill:none\" points=\"725.549,262.317 693.933,207.557 630.701,207.557 599.086,262.317 630.701,317.077 693.933,317.077 725.549,262.317 \"/>\n",
       "<path clip-path=\"url(#clip142)\" d=\"M1075.51 691.946 L1043.9 637.186 L980.664 637.186 L949.049 691.946 L980.664 746.706 L1043.9 746.706 L1075.51 691.946 L1075.51 691.946  Z\" fill=\"#009af9\" fill-rule=\"evenodd\" fill-opacity=\"1\"/>\n",
       "<polyline clip-path=\"url(#clip142)\" style=\"stroke:#000000; stroke-linecap:round; stroke-linejoin:round; stroke-width:4; stroke-opacity:1; fill:none\" points=\"1075.51,691.946 1043.9,637.186 980.664,637.186 949.049,691.946 980.664,746.706 1043.9,746.706 1075.51,691.946 \"/>\n",
       "<path clip-path=\"url(#clip142)\" d=\"M1434.59 1050.33 L1402.98 995.568 L1339.75 995.568 L1308.13 1050.33 L1339.75 1105.09 L1402.98 1105.09 L1434.59 1050.33 L1434.59 1050.33  Z\" fill=\"#009af9\" fill-rule=\"evenodd\" fill-opacity=\"1\"/>\n",
       "<polyline clip-path=\"url(#clip142)\" style=\"stroke:#000000; stroke-linecap:round; stroke-linejoin:round; stroke-width:4; stroke-opacity:1; fill:none\" points=\"1434.59,1050.33 1402.98,995.568 1339.75,995.568 1308.13,1050.33 1339.75,1105.09 1402.98,1105.09 1434.59,1050.33 \"/>\n",
       "<path clip-path=\"url(#clip142)\" d=\"M1800.91 1337.68 L1769.3 1282.92 L1706.07 1282.92 L1674.45 1337.68 L1706.07 1392.44 L1769.3 1392.44 L1800.91 1337.68 L1800.91 1337.68  Z\" fill=\"#009af9\" fill-rule=\"evenodd\" fill-opacity=\"1\"/>\n",
       "<polyline clip-path=\"url(#clip142)\" style=\"stroke:#000000; stroke-linecap:round; stroke-linejoin:round; stroke-width:4; stroke-opacity:1; fill:none\" points=\"1800.91,1337.68 1769.3,1282.92 1706.07,1282.92 1674.45,1337.68 1706.07,1392.44 1769.3,1392.44 1800.91,1337.68 \"/>\n",
       "<path clip-path=\"url(#clip142)\" d=\"M662.317 263.117 L661.624 262.717 L661.624 261.917 L662.317 261.517 L663.01 261.917 L663.01 262.717 Z\" fill=\"#009af9\" fill-rule=\"evenodd\" fill-opacity=\"1\" stroke=\"#000000\" stroke-opacity=\"1\" stroke-width=\"3.2\"/>\n",
       "<path clip-path=\"url(#clip142)\" d=\"M1012.28 692.746 L1011.59 692.346 L1011.59 691.546 L1012.28 691.146 L1012.97 691.546 L1012.97 692.346 Z\" fill=\"#009af9\" fill-rule=\"evenodd\" fill-opacity=\"1\" stroke=\"#000000\" stroke-opacity=\"1\" stroke-width=\"3.2\"/>\n",
       "<path clip-path=\"url(#clip142)\" d=\"M1371.36 1051.13 L1370.67 1050.73 L1370.67 1049.93 L1371.36 1049.53 L1372.06 1049.93 L1372.06 1050.73 Z\" fill=\"#009af9\" fill-rule=\"evenodd\" fill-opacity=\"1\" stroke=\"#000000\" stroke-opacity=\"1\" stroke-width=\"3.2\"/>\n",
       "<path clip-path=\"url(#clip142)\" d=\"M1737.68 1338.48 L1736.99 1338.08 L1736.99 1337.28 L1737.68 1336.88 L1738.38 1337.28 L1738.38 1338.08 Z\" fill=\"#009af9\" fill-rule=\"evenodd\" fill-opacity=\"1\" stroke=\"#000000\" stroke-opacity=\"1\" stroke-width=\"3.2\"/>\n",
       "<path clip-path=\"url(#clip140)\" d=\"M653.901 273.994 L660.585 273.994 L660.585 250.924 L653.314 252.382 L653.314 248.656 L660.545 247.197 L664.636 247.197 L664.636 273.994 L671.32 273.994 L671.32 277.437 L653.901 277.437 L653.901 273.994 Z\" fill=\"#000000\" fill-rule=\"nonzero\" fill-opacity=\"1\" /><path clip-path=\"url(#clip140)\" d=\"M1007.6 703.623 L1021.88 703.623 L1021.88 707.066 L1002.68 707.066 L1002.68 703.623 Q1005.01 701.212 1009.02 697.161 Q1013.05 693.09 1014.08 691.915 Q1016.05 689.708 1016.82 688.189 Q1017.61 686.649 1017.61 685.171 Q1017.61 682.76 1015.91 681.241 Q1014.22 679.722 1011.51 679.722 Q1009.59 679.722 1007.44 680.391 Q1005.31 681.059 1002.88 682.416 L1002.88 678.284 Q1005.35 677.292 1007.5 676.785 Q1009.65 676.279 1011.43 676.279 Q1016.13 676.279 1018.92 678.628 Q1021.72 680.978 1021.72 684.907 Q1021.72 686.771 1021.01 688.452 Q1020.32 690.113 1018.48 692.381 Q1017.97 692.969 1015.26 695.784 Q1012.54 698.579 1007.6 703.623 Z\" fill=\"#000000\" fill-rule=\"nonzero\" fill-opacity=\"1\" /><path clip-path=\"url(#clip140)\" d=\"M1375.08 1049.14 Q1378.02 1049.77 1379.66 1051.76 Q1381.32 1053.74 1381.32 1056.66 Q1381.32 1061.13 1378.24 1063.58 Q1375.16 1066.04 1369.49 1066.04 Q1367.59 1066.04 1365.56 1065.65 Q1363.55 1065.29 1361.41 1064.54 L1361.41 1060.59 Q1363.11 1061.58 1365.13 1062.09 Q1367.16 1062.59 1369.37 1062.59 Q1373.22 1062.59 1375.22 1061.07 Q1377.25 1059.55 1377.25 1056.66 Q1377.25 1053.98 1375.36 1052.48 Q1373.5 1050.97 1370.16 1050.97 L1366.63 1050.97 L1366.63 1047.6 L1370.32 1047.6 Q1373.34 1047.6 1374.94 1046.41 Q1376.54 1045.19 1376.54 1042.92 Q1376.54 1040.6 1374.88 1039.36 Q1373.24 1038.1 1370.16 1038.1 Q1368.48 1038.1 1366.55 1038.47 Q1364.63 1038.83 1362.32 1039.6 L1362.32 1035.96 Q1364.65 1035.31 1366.67 1034.98 Q1368.72 1034.66 1370.52 1034.66 Q1375.18 1034.66 1377.9 1036.79 Q1380.61 1038.89 1380.61 1042.5 Q1380.61 1045.01 1379.17 1046.75 Q1377.73 1048.47 1375.08 1049.14 Z\" fill=\"#000000\" fill-rule=\"nonzero\" fill-opacity=\"1\" /><path clip-path=\"url(#clip140)\" d=\"M1740.32 1326.13 L1729.99 1342.27 L1740.32 1342.27 L1740.32 1326.13 M1739.24 1322.56 L1744.39 1322.56 L1744.39 1342.27 L1748.7 1342.27 L1748.7 1345.67 L1744.39 1345.67 L1744.39 1352.8 L1740.32 1352.8 L1740.32 1345.67 L1726.66 1345.67 L1726.66 1341.72 L1739.24 1322.56 Z\" fill=\"#000000\" fill-rule=\"nonzero\" fill-opacity=\"1\" /></svg>\n"
      ],
      "text/html": [
       "<?xml version=\"1.0\" encoding=\"utf-8\"?>\n",
       "<svg xmlns=\"http://www.w3.org/2000/svg\" xmlns:xlink=\"http://www.w3.org/1999/xlink\" width=\"600\" height=\"400\" viewBox=\"0 0 2400 1600\">\n",
       "<defs>\n",
       "  <clipPath id=\"clip170\">\n",
       "    <rect x=\"0\" y=\"0\" width=\"2400\" height=\"1600\"/>\n",
       "  </clipPath>\n",
       "</defs>\n",
       "<path clip-path=\"url(#clip170)\" d=\"M0 1600 L2400 1600 L2400 0 L0 0  Z\" fill=\"#ffffff\" fill-rule=\"evenodd\" fill-opacity=\"1\"/>\n",
       "<defs>\n",
       "  <clipPath id=\"clip171\">\n",
       "    <rect x=\"480\" y=\"0\" width=\"1681\" height=\"1600\"/>\n",
       "  </clipPath>\n",
       "</defs>\n",
       "<path clip-path=\"url(#clip170)\" d=\"M447.244 1552.76 L1952.76 1552.76 L1952.76 47.2441 L447.244 47.2441  Z\" fill=\"#ffffff\" fill-rule=\"evenodd\" fill-opacity=\"1\"/>\n",
       "<defs>\n",
       "  <clipPath id=\"clip172\">\n",
       "    <rect x=\"447\" y=\"47\" width=\"1507\" height=\"1507\"/>\n",
       "  </clipPath>\n",
       "</defs>\n",
       "<polyline clip-path=\"url(#clip172)\" style=\"stroke:#000000; stroke-linecap:round; stroke-linejoin:round; stroke-width:4; stroke-opacity:1; fill:none\" points=\"662.317,262.317 668.949,271.501 675.583,280.683 682.22,289.862 688.862,299.037 695.511,308.207 702.168,317.37 708.836,326.524 715.515,335.669 722.209,344.803 728.917,353.924 735.643,363.031 742.387,372.123 749.151,381.199 755.938,390.256 762.748,399.294 769.584,408.311 776.448,417.306 783.34,426.278 790.263,435.224 797.218,444.145 804.207,453.037 811.232,461.901 818.294,470.734 825.395,479.535 832.537,488.303 839.72,497.038 846.942,505.74 854.202,514.413 861.497,523.056 868.826,531.672 876.187,540.261 883.579,548.825 891,557.366 898.448,565.885 905.922,574.383 913.42,582.861 920.939,591.321 928.479,599.765 936.038,608.194 943.614,616.608 951.205,625.011 958.809,633.402 966.426,641.783 974.053,650.156 981.688,658.523 989.33,666.883 996.977,675.24 1004.63,683.593 1012.28,691.946 \"/>\n",
       "<polyline clip-path=\"url(#clip172)\" style=\"stroke:#000000; stroke-linecap:round; stroke-linejoin:round; stroke-width:4; stroke-opacity:1; fill:none\" points=\"1012.28,691.946 1005.65,682.762 999.015,673.58 992.378,664.401 985.736,655.226 979.087,646.056 972.429,636.893 965.762,627.739 959.082,618.594 952.389,609.461 945.68,600.339 938.955,591.232 932.211,582.14 925.446,573.065 918.659,564.007 911.849,554.969 905.013,545.952 898.15,536.957 891.258,527.985 884.335,519.039 877.38,510.118 870.391,501.226 863.366,492.362 856.304,483.529 849.202,474.728 842.06,465.96 834.877,457.225 827.655,448.523 820.396,439.85 813.101,431.207 805.772,422.591 798.41,414.002 791.018,405.438 783.597,396.897 776.149,388.378 768.675,379.881 761.178,371.402 753.658,362.942 746.118,354.498 738.559,346.069 730.984,337.655 723.393,329.252 715.788,320.861 708.171,312.48 700.545,304.107 692.909,295.74 685.267,287.38 677.62,279.023 669.969,270.67 662.317,262.317 \"/>\n",
       "<polyline clip-path=\"url(#clip172)\" style=\"stroke:#000000; stroke-linecap:round; stroke-linejoin:round; stroke-width:4; stroke-opacity:1; fill:none\" points=\"1012.28,691.946 1019.14,699.726 1026.01,707.504 1032.88,715.279 1039.75,723.049 1046.63,730.813 1053.51,738.569 1060.41,746.317 1067.32,754.053 1074.24,761.776 1081.17,769.486 1088.12,777.181 1095.08,784.858 1102.07,792.516 1109.07,800.155 1116.1,807.771 1123.15,815.365 1130.22,822.933 1137.32,830.475 1144.45,837.989 1151.61,845.474 1158.8,852.928 1166.02,860.349 1173.27,867.735 1180.57,875.087 1187.89,882.4 1195.26,889.677 1202.66,896.918 1210.1,904.125 1217.56,911.299 1225.06,918.442 1232.59,925.556 1240.15,932.642 1247.73,939.701 1255.34,946.736 1262.97,953.747 1270.62,960.736 1278.29,967.706 1285.98,974.656 1293.69,981.59 1301.41,988.508 1309.15,995.412 1316.9,1002.3 1324.66,1009.18 1332.43,1016.06 1340.21,1022.92 1347.99,1029.78 1355.78,1036.63 1363.57,1043.48 1371.36,1050.33 \"/>\n",
       "<polyline clip-path=\"url(#clip172)\" style=\"stroke:#000000; stroke-linecap:round; stroke-linejoin:round; stroke-width:4; stroke-opacity:1; fill:none\" points=\"1371.36,1050.33 1364.5,1042.55 1357.63,1034.77 1350.77,1026.99 1343.89,1019.22 1337.02,1011.46 1330.13,1003.7 1323.23,995.957 1316.33,988.221 1309.41,980.497 1302.47,972.787 1295.52,965.093 1288.56,957.416 1281.57,949.757 1274.57,942.119 1267.54,934.502 1260.5,926.909 1253.42,919.34 1246.32,911.798 1239.19,904.284 1232.03,896.8 1224.85,889.346 1217.62,881.925 1210.37,874.538 1203.08,867.187 1195.75,859.873 1188.38,852.596 1180.98,845.355 1173.55,838.149 1166.08,830.974 1158.58,823.831 1151.05,816.717 1143.5,809.632 1135.92,802.572 1128.31,795.538 1120.68,788.527 1113.03,781.537 1105.35,774.568 1097.66,767.617 1089.96,760.684 1082.23,753.766 1074.49,746.862 1066.74,739.97 1058.98,733.089 1051.21,726.218 1043.44,719.354 1035.65,712.497 1027.86,705.644 1020.07,698.794 1012.28,691.946 \"/>\n",
       "<polyline clip-path=\"url(#clip172)\" style=\"stroke:#000000; stroke-linecap:round; stroke-linejoin:round; stroke-width:4; stroke-opacity:1; fill:none\" points=\"1371.36,1050.33 1378.43,1056.71 1385.5,1063.09 1392.58,1069.47 1399.66,1075.84 1406.74,1082.2 1413.83,1088.56 1420.93,1094.91 1428.04,1101.24 1435.15,1107.56 1442.28,1113.86 1449.43,1120.15 1456.59,1126.42 1463.76,1132.67 1470.96,1138.89 1478.17,1145.09 1485.4,1151.27 1492.65,1157.42 1499.93,1163.53 1507.23,1169.62 1514.56,1175.67 1521.91,1181.69 1529.3,1187.68 1536.71,1193.62 1544.15,1199.53 1551.63,1205.39 1559.14,1211.22 1566.68,1217 1574.24,1222.74 1581.84,1228.45 1589.47,1234.13 1597.12,1239.77 1604.79,1245.38 1612.49,1250.96 1620.21,1256.52 1627.95,1262.04 1635.71,1267.55 1643.49,1273.03 1651.28,1278.49 1659.09,1283.93 1666.91,1289.36 1674.74,1294.76 1682.58,1300.16 1690.44,1305.54 1698.3,1310.91 1706.17,1316.28 1714.04,1321.64 1721.92,1326.99 1729.8,1332.34 1737.68,1337.68 \"/>\n",
       "<polyline clip-path=\"url(#clip172)\" style=\"stroke:#000000; stroke-linecap:round; stroke-linejoin:round; stroke-width:4; stroke-opacity:1; fill:none\" points=\"1737.68,1337.68 1730.61,1331.3 1723.54,1324.92 1716.47,1318.54 1709.39,1312.17 1702.31,1305.81 1695.22,1299.45 1688.12,1293.1 1681.01,1286.77 1673.89,1280.45 1666.76,1274.15 1659.62,1267.86 1652.46,1261.59 1645.28,1255.34 1638.09,1249.12 1630.88,1242.92 1623.65,1236.74 1616.39,1230.6 1609.11,1224.48 1601.81,1218.39 1594.49,1212.34 1587.13,1206.32 1579.75,1200.33 1572.34,1194.39 1564.89,1188.48 1557.42,1182.62 1549.91,1176.79 1542.37,1171.01 1534.8,1165.27 1527.2,1159.56 1519.58,1153.88 1511.93,1148.24 1504.25,1142.63 1496.56,1137.05 1488.84,1131.49 1481.1,1125.97 1473.34,1120.46 1465.56,1114.98 1457.77,1109.52 1449.96,1104.08 1442.14,1098.65 1434.31,1093.25 1426.46,1087.85 1418.61,1082.47 1410.75,1077.1 1402.88,1071.73 1395,1066.37 1387.13,1061.02 1379.25,1055.67 1371.36,1050.33 \"/>\n",
       "<path clip-path=\"url(#clip172)\" d=\"M725.549 262.317 L693.933 207.557 L630.701 207.557 L599.086 262.317 L630.701 317.077 L693.933 317.077 L725.549 262.317 L725.549 262.317  Z\" fill=\"#009af9\" fill-rule=\"evenodd\" fill-opacity=\"1\"/>\n",
       "<polyline clip-path=\"url(#clip172)\" style=\"stroke:#000000; stroke-linecap:round; stroke-linejoin:round; stroke-width:4; stroke-opacity:1; fill:none\" points=\"725.549,262.317 693.933,207.557 630.701,207.557 599.086,262.317 630.701,317.077 693.933,317.077 725.549,262.317 \"/>\n",
       "<path clip-path=\"url(#clip172)\" d=\"M1075.51 691.946 L1043.9 637.186 L980.664 637.186 L949.049 691.946 L980.664 746.706 L1043.9 746.706 L1075.51 691.946 L1075.51 691.946  Z\" fill=\"#009af9\" fill-rule=\"evenodd\" fill-opacity=\"1\"/>\n",
       "<polyline clip-path=\"url(#clip172)\" style=\"stroke:#000000; stroke-linecap:round; stroke-linejoin:round; stroke-width:4; stroke-opacity:1; fill:none\" points=\"1075.51,691.946 1043.9,637.186 980.664,637.186 949.049,691.946 980.664,746.706 1043.9,746.706 1075.51,691.946 \"/>\n",
       "<path clip-path=\"url(#clip172)\" d=\"M1434.59 1050.33 L1402.98 995.568 L1339.75 995.568 L1308.13 1050.33 L1339.75 1105.09 L1402.98 1105.09 L1434.59 1050.33 L1434.59 1050.33  Z\" fill=\"#009af9\" fill-rule=\"evenodd\" fill-opacity=\"1\"/>\n",
       "<polyline clip-path=\"url(#clip172)\" style=\"stroke:#000000; stroke-linecap:round; stroke-linejoin:round; stroke-width:4; stroke-opacity:1; fill:none\" points=\"1434.59,1050.33 1402.98,995.568 1339.75,995.568 1308.13,1050.33 1339.75,1105.09 1402.98,1105.09 1434.59,1050.33 \"/>\n",
       "<path clip-path=\"url(#clip172)\" d=\"M1800.91 1337.68 L1769.3 1282.92 L1706.07 1282.92 L1674.45 1337.68 L1706.07 1392.44 L1769.3 1392.44 L1800.91 1337.68 L1800.91 1337.68  Z\" fill=\"#009af9\" fill-rule=\"evenodd\" fill-opacity=\"1\"/>\n",
       "<polyline clip-path=\"url(#clip172)\" style=\"stroke:#000000; stroke-linecap:round; stroke-linejoin:round; stroke-width:4; stroke-opacity:1; fill:none\" points=\"1800.91,1337.68 1769.3,1282.92 1706.07,1282.92 1674.45,1337.68 1706.07,1392.44 1769.3,1392.44 1800.91,1337.68 \"/>\n",
       "<path clip-path=\"url(#clip172)\" d=\"M662.317 263.117 L661.624 262.717 L661.624 261.917 L662.317 261.517 L663.01 261.917 L663.01 262.717 Z\" fill=\"#009af9\" fill-rule=\"evenodd\" fill-opacity=\"1\" stroke=\"#000000\" stroke-opacity=\"1\" stroke-width=\"3.2\"/>\n",
       "<path clip-path=\"url(#clip172)\" d=\"M1012.28 692.746 L1011.59 692.346 L1011.59 691.546 L1012.28 691.146 L1012.97 691.546 L1012.97 692.346 Z\" fill=\"#009af9\" fill-rule=\"evenodd\" fill-opacity=\"1\" stroke=\"#000000\" stroke-opacity=\"1\" stroke-width=\"3.2\"/>\n",
       "<path clip-path=\"url(#clip172)\" d=\"M1371.36 1051.13 L1370.67 1050.73 L1370.67 1049.93 L1371.36 1049.53 L1372.06 1049.93 L1372.06 1050.73 Z\" fill=\"#009af9\" fill-rule=\"evenodd\" fill-opacity=\"1\" stroke=\"#000000\" stroke-opacity=\"1\" stroke-width=\"3.2\"/>\n",
       "<path clip-path=\"url(#clip172)\" d=\"M1737.68 1338.48 L1736.99 1338.08 L1736.99 1337.28 L1737.68 1336.88 L1738.38 1337.28 L1738.38 1338.08 Z\" fill=\"#009af9\" fill-rule=\"evenodd\" fill-opacity=\"1\" stroke=\"#000000\" stroke-opacity=\"1\" stroke-width=\"3.2\"/>\n",
       "<path clip-path=\"url(#clip170)\" d=\"M653.901 273.994 L660.585 273.994 L660.585 250.924 L653.314 252.382 L653.314 248.656 L660.545 247.197 L664.636 247.197 L664.636 273.994 L671.32 273.994 L671.32 277.437 L653.901 277.437 L653.901 273.994 Z\" fill=\"#000000\" fill-rule=\"nonzero\" fill-opacity=\"1\" /><path clip-path=\"url(#clip170)\" d=\"M1007.6 703.623 L1021.88 703.623 L1021.88 707.066 L1002.68 707.066 L1002.68 703.623 Q1005.01 701.212 1009.02 697.161 Q1013.05 693.09 1014.08 691.915 Q1016.05 689.708 1016.82 688.189 Q1017.61 686.649 1017.61 685.171 Q1017.61 682.76 1015.91 681.241 Q1014.22 679.722 1011.51 679.722 Q1009.59 679.722 1007.44 680.391 Q1005.31 681.059 1002.88 682.416 L1002.88 678.284 Q1005.35 677.292 1007.5 676.785 Q1009.65 676.279 1011.43 676.279 Q1016.13 676.279 1018.92 678.628 Q1021.72 680.978 1021.72 684.907 Q1021.72 686.771 1021.01 688.452 Q1020.32 690.113 1018.48 692.381 Q1017.97 692.969 1015.26 695.784 Q1012.54 698.579 1007.6 703.623 Z\" fill=\"#000000\" fill-rule=\"nonzero\" fill-opacity=\"1\" /><path clip-path=\"url(#clip170)\" d=\"M1375.08 1049.14 Q1378.02 1049.77 1379.66 1051.76 Q1381.32 1053.74 1381.32 1056.66 Q1381.32 1061.13 1378.24 1063.58 Q1375.16 1066.04 1369.49 1066.04 Q1367.59 1066.04 1365.56 1065.65 Q1363.55 1065.29 1361.41 1064.54 L1361.41 1060.59 Q1363.11 1061.58 1365.13 1062.09 Q1367.16 1062.59 1369.37 1062.59 Q1373.22 1062.59 1375.22 1061.07 Q1377.25 1059.55 1377.25 1056.66 Q1377.25 1053.98 1375.36 1052.48 Q1373.5 1050.97 1370.16 1050.97 L1366.63 1050.97 L1366.63 1047.6 L1370.32 1047.6 Q1373.34 1047.6 1374.94 1046.41 Q1376.54 1045.19 1376.54 1042.92 Q1376.54 1040.6 1374.88 1039.36 Q1373.24 1038.1 1370.16 1038.1 Q1368.48 1038.1 1366.55 1038.47 Q1364.63 1038.83 1362.32 1039.6 L1362.32 1035.96 Q1364.65 1035.31 1366.67 1034.98 Q1368.72 1034.66 1370.52 1034.66 Q1375.18 1034.66 1377.9 1036.79 Q1380.61 1038.89 1380.61 1042.5 Q1380.61 1045.01 1379.17 1046.75 Q1377.73 1048.47 1375.08 1049.14 Z\" fill=\"#000000\" fill-rule=\"nonzero\" fill-opacity=\"1\" /><path clip-path=\"url(#clip170)\" d=\"M1740.32 1326.13 L1729.99 1342.27 L1740.32 1342.27 L1740.32 1326.13 M1739.24 1322.56 L1744.39 1322.56 L1744.39 1342.27 L1748.7 1342.27 L1748.7 1345.67 L1744.39 1345.67 L1744.39 1352.8 L1740.32 1352.8 L1740.32 1345.67 L1726.66 1345.67 L1726.66 1341.72 L1739.24 1322.56 Z\" fill=\"#000000\" fill-rule=\"nonzero\" fill-opacity=\"1\" /></svg>\n"
      ]
     },
     "metadata": {},
     "output_type": "display_data"
    }
   ],
   "source": [
    "visu_graph(instance.s_network)"
   ]
  },
  {
   "cell_type": "code",
   "execution_count": 11,
   "metadata": {},
   "outputs": [
    {
     "name": "stdout",
     "output_type": "stream",
     "text": [
      "Metagraph \n",
      "Node 1 with cap 1 and cost 1\n",
      "Node 2 with cap 0 and cost 1\n",
      "Node 3 with cap 0 and cost 1\n",
      "Node 4 with cap 1 and cost 1\n",
      "Edge Edge 1 => 2 with cap 1 and cost 1\n",
      "Edge Edge 2 => 1 with cap 1 and cost 1\n",
      "Edge Edge 2 => 3 with cap 1 and cost 10\n",
      "Edge Edge 3 => 2 with cap 1 and cost 10\n",
      "Edge Edge 3 => 4 with cap 1 and cost 1\n",
      "Edge Edge 4 => 3 with cap 2 and cost 1\n"
     ]
    }
   ],
   "source": [
    "print_substrate(instance.s_network)"
   ]
  },
  {
   "cell_type": "code",
   "execution_count": 12,
   "metadata": {},
   "outputs": [
    {
     "name": "stdout",
     "output_type": "stream",
     "text": [
      "Constructing compact model...CPLEX Error  3003: Not a mixed-integer problem.\n",
      "Version identifier: 22.1.1.0 | 2022-11-28 | 9160aff4d\n",
      "CPXPARAM_TimeLimit                               10\n",
      "CPXPARAM_MIP_Tolerances_Integrality              1e-08\n",
      "Tried aggregator 1 time.\n",
      "LP Presolve eliminated 9 rows and 4 columns.\n",
      "Aggregator did 2 substitutions.\n",
      "Reduced LP has 5 rows, 8 columns, and 18 nonzeros.\n",
      "Presolve time = 0.00 sec. (0.02 ticks)\n",
      "Symmetry aggregator did 6 additional substitutions.\n",
      "Initializing dual steep norms . . .\n",
      "\n",
      "Dual crossover.\n",
      "  Dual:  Fixed no variables.\n",
      "  Primal:  Fixed no variables.\n"
     ]
    },
    {
     "data": {
      "text/plain": [
       "1-element Vector{Any}:\n",
       " Node placement of cost : 2.0\n",
       "1 : \n",
       "       1 : 0.5\n",
       "       4 : 0.5\n",
       "2 : \n",
       "       1 : 0.5\n",
       "       4 : 0.5\n",
       "Edge routing of cost: 0.0\n",
       "Edge 1 => 2 : \n"
      ]
     },
     "metadata": {},
     "output_type": "display_data"
    }
   ],
   "source": [
    "solve_compact_fractional(instance)"
   ]
  },
  {
   "cell_type": "code",
   "execution_count": 13,
   "metadata": {},
   "outputs": [
    {
     "name": "stdout",
     "output_type": "stream",
     "text": [
      "Constructing compact model...CPLEX Error  3003: Not a mixed-integer problem.\n",
      "Version identifier: 22.1.1.0 | 2022-11-28 | 9160aff4d\n",
      "CPXPARAM_TimeLimit                               10\n",
      "CPXPARAM_MIP_Tolerances_Integrality              1e-08\n",
      "Tried aggregator 1 time.\n",
      "LP Presolve eliminated 17 rows and 4 columns.\n",
      "Aggregator did 2 substitutions.\n",
      "Reduced LP has 9 rows, 8 columns, and 26 nonzeros.\n",
      "Presolve time = 0.00 sec. (0.02 ticks)\n",
      "Initializing dual steep norms . . .\n",
      "\n",
      "Iteration log . . .\n",
      "Iteration:     1   Dual objective     =             2.000000\n"
     ]
    },
    {
     "data": {
      "text/plain": [
       "1-element Vector{Any}:\n",
       " Node placement of cost : 2.0\n",
       "1 : \n",
       "       1 : 0.5\n",
       "       4 : 0.5\n",
       "2 : \n",
       "       1 : 0.5\n",
       "       4 : 0.5\n",
       "Edge routing of cost: 2.0\n",
       "Edge 1 => 2 : \n",
       "       0.5 : Edge 1 => 2\n",
       "       0.5 : Edge 2 => 1\n",
       "       0.5 : Edge 3 => 4\n",
       "       0.5 : Edge 4 => 3\n"
      ]
     },
     "metadata": {},
     "output_type": "display_data"
    }
   ],
   "source": [
    "solve_compact_fractional(instance, true, true)"
   ]
  },
  {
   "cell_type": "code",
   "execution_count": 16,
   "metadata": {},
   "outputs": [
    {
     "name": "stdout",
     "output_type": "stream",
     "text": [
      "Constructing empty model... done.\n",
      "Generating all paths... done\n",
      "Valeur objective : 14.0\n"
     ]
    },
    {
     "name": "stdout",
     "output_type": "stream",
     "text": [
      "Column generation over. Number of columns : 12\n"
     ]
    },
    {
     "data": {
      "text/plain": [
       "1-element Vector{Mapping_Path_Fractional}:\n",
       " Node placement of cost : 2.0\n",
       "1 : \n",
       "       4 : 1.0\n",
       "2 : \n",
       "       1 : 1.0\n",
       "Edge routing of cost: 12.0\n",
       "Edge 1 => 2 : \n",
       "       1.0 : Path(4, 1, Any[Edge 4 => 3, Edge 3 => 2, Edge 2 => 1], 12)\n"
      ]
     },
     "metadata": {},
     "output_type": "display_data"
    }
   ],
   "source": [
    "solve_column_generation(instance)"
   ]
  },
  {
   "cell_type": "code",
   "execution_count": 15,
   "metadata": {},
   "outputs": [
    {
     "name": "stdout",
     "output_type": "stream",
     "text": [
      "Constructing compact model...Version identifier: 22.1.1.0 | 2022-11-28 | 9160aff4d\n",
      "CPXPARAM_TimeLimit                               30\n",
      "CPXPARAM_MIP_Tolerances_Integrality              1e-08\n",
      "Tried aggregator 3 times.\n",
      "MIP Presolve eliminated 9 rows and 4 columns.\n",
      "MIP Presolve added 3 rows and 3 columns.\n",
      "Aggregator did 3 substitutions.\n",
      "Reduced MIP has 7 rows, 10 columns, and 23 nonzeros.\n",
      "Reduced MIP has 7 binaries, 3 generals, 0 SOSs, and 0 indicators.\n",
      "Presolve time = 0.00 sec. (0.05 ticks)\n",
      "Found incumbent of value 14.000000 after 0.00 sec. (0.05 ticks)\n",
      "Probing time = 0.00 sec. (0.01 ticks)\n",
      "Tried aggregator 1 time.\n",
      "MIP Presolve eliminated 4 rows and 6 columns.\n",
      "Reduced MIP has 3 rows, 4 columns, and 6 nonzeros.\n",
      "Reduced MIP has 1 binaries, 3 generals, 0 SOSs, and 0 indicators.\n",
      "Presolve time = 0.00 sec. (0.01 ticks)\n",
      "Probing time = 0.00 sec. (0.00 ticks)\n",
      "Tried aggregator 1 time.\n",
      "Detecting symmetries...\n",
      "Reduced MIP has 3 rows, 4 columns, and 6 nonzeros.\n",
      "Reduced MIP has 1 binaries, 3 generals, 0 SOSs, and 0 indicators.\n",
      "Presolve time = 0.00 sec. (0.01 ticks)\n",
      "\n",
      "Root node processing (before b&c):\n",
      "  Real time             =    0.00 sec. (0.09 ticks)\n",
      "Parallel b&c, 8 threads:\n",
      "  Real time             =    0.00 sec. (0.00 ticks)\n",
      "  Sync time (average)   =    0.00 sec.\n",
      "  Wait time (average)   =    0.00 sec.\n",
      "                          ------------\n",
      "Total (root+branch&cut) =    0.00 sec. (0.09 ticks)\n"
     ]
    },
    {
     "data": {
      "text/plain": [
       "1-element Vector{Any}:\n",
       " Node placement of cost :2\n",
       "       1 => 1\n",
       "       2 => 4\n",
       "Edge routing of cost: 12\n",
       "       Edge 1 => 2 => Path(1, 4, Any[Edge 1 => 2, Edge 2 => 3, Edge 3 => 4], 12)\n"
      ]
     },
     "metadata": {},
     "output_type": "display_data"
    }
   ],
   "source": [
    "solve_compact_integer(instance)"
   ]
  },
  {
   "cell_type": "code",
   "execution_count": null,
   "metadata": {},
   "outputs": [],
   "source": []
  }
 ],
 "metadata": {
  "kernelspec": {
   "display_name": "Julia 1.9.3",
   "language": "julia",
   "name": "julia-1.9"
  },
  "language_info": {
   "file_extension": ".jl",
   "mimetype": "application/julia",
   "name": "julia",
   "version": "1.9.3"
  }
 },
 "nbformat": 4,
 "nbformat_minor": 2
}
