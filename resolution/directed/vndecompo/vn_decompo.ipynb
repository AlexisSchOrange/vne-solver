{
 "cells": [
  {
   "cell_type": "code",
   "execution_count": 1,
   "metadata": {},
   "outputs": [],
   "source": [
    "using Revise\n",
    "includet(\"../../utils/file_reader.jl\")\n",
    "includet(\"../../utils/some_data.jl\")\n",
    "includet(\"../../utils/utils_graph.jl\")\n",
    "includet(\"../../resolution/compact/compact_formulation.jl\")\n",
    "includet(\"../../resolution/path/path_generation.jl\")\n",
    "includet(\"../../utils/visu.jl\")\n",
    "includet(\"vn_decompo.jl\")"
   ]
  },
  {
   "cell_type": "code",
   "execution_count": 6,
   "metadata": {},
   "outputs": [
    {
     "ename": "UndefVarError",
     "evalue": "UndefVarError: `get_instance_from_folder` not defined",
     "output_type": "error",
     "traceback": [
      "UndefVarError: `get_instance_from_folder` not defined\n",
      "\n",
      "Stacktrace:\n",
      " [1] top-level scope\n",
      "   @ ~/VNE/solver-undirected/resolution/vndecompo/clean.ipynb:1"
     ]
    }
   ],
   "source": [
    "instance = get_instance_from_folder(\"../../instances/tests/0830/Integra\")\n",
    "#visu_graph(instance.v_networks[1])\n"
   ]
  },
  {
   "cell_type": "code",
   "execution_count": 2,
   "metadata": {},
   "outputs": [
    {
     "ename": "UndefVarError",
     "evalue": "UndefVarError: `instance` not defined",
     "output_type": "error",
     "traceback": [
      "UndefVarError: `instance` not defined\n",
      "\n",
      "Stacktrace:\n",
      " [1] top-level scope\n",
      "   @ ~/VNE/solver-undirected/resolution/vndecompo/clean.ipynb:1"
     ]
    }
   ],
   "source": [
    "visu_graph(instance.s_network)\n"
   ]
  },
  {
   "cell_type": "markdown",
   "metadata": {},
   "source": [
    "### Resolution classique"
   ]
  },
  {
   "cell_type": "code",
   "execution_count": 4,
   "metadata": {},
   "outputs": [],
   "source": [
    "#mappings = solve_compact_integer(instance, false, false, 30)\n",
    "#println(\"Valeur de la solution entière (en mode naz): \" * string(mappings[1].node_placement_cost + mappings[1].edge_routing_cost))"
   ]
  },
  {
   "cell_type": "code",
   "execution_count": 5,
   "metadata": {},
   "outputs": [
    {
     "name": "stdout",
     "output_type": "stream",
     "text": [
      "Constructing compact model... Set parameter Username\n"
     ]
    },
    {
     "ename": "ErrorException",
     "evalue": "Gurobi Error 10009: HostID mismatch (licensed to 5d80927e, hostid is 5ddbae68)",
     "output_type": "error",
     "traceback": [
      "Gurobi Error 10009: HostID mismatch (licensed to 5d80927e, hostid is 5ddbae68)\n",
      "\n",
      "Stacktrace:\n",
      "  [1] _check_ret\n",
      "    @ ~/.julia/packages/Gurobi/uP4zR/src/MOI_wrapper/MOI_wrapper.jl:401 [inlined]\n",
      "  [2] Gurobi.Env(; output_flag::Int64, memory_limit::Nothing, started::Bool)\n",
      "    @ Gurobi ~/.julia/packages/Gurobi/uP4zR/src/MOI_wrapper/MOI_wrapper.jl:128\n",
      "  [3] Env\n",
      "    @ ~/.julia/packages/Gurobi/uP4zR/src/MOI_wrapper/MOI_wrapper.jl:101 [inlined]\n",
      "  [4] Gurobi.Optimizer(env::Nothing; enable_interrupts::Bool)\n",
      "    @ Gurobi ~/.julia/packages/Gurobi/uP4zR/src/MOI_wrapper/MOI_wrapper.jl:332\n",
      "  [5] Optimizer\n",
      "    @ ~/.julia/packages/Gurobi/uP4zR/src/MOI_wrapper/MOI_wrapper.jl:326 [inlined]\n",
      "  [6] Gurobi.Optimizer()\n",
      "    @ Gurobi ~/.julia/packages/Gurobi/uP4zR/src/MOI_wrapper/MOI_wrapper.jl:326\n",
      "  [7] _instantiate_and_check(optimizer_constructor::Any)\n",
      "    @ MathOptInterface ~/.julia/packages/MathOptInterface/aJZbq/src/instantiate.jl:94\n",
      "  [8] instantiate(optimizer_constructor::Any; with_bridge_type::Type{Float64}, with_cache_type::Nothing)\n",
      "    @ MathOptInterface ~/.julia/packages/MathOptInterface/aJZbq/src/instantiate.jl:175\n",
      "  [9] set_optimizer(model::Model, optimizer_constructor::Any; add_bridges::Bool)\n",
      "    @ JuMP ~/.julia/packages/JuMP/as6Ji/src/optimizer_interface.jl:365\n",
      " [10] set_optimizer\n",
      "    @ ~/.julia/packages/JuMP/as6Ji/src/optimizer_interface.jl:358 [inlined]\n",
      " [11] #_#1\n",
      "    @ ~/.julia/packages/JuMP/as6Ji/src/JuMP.jl:182 [inlined]\n",
      " [12] GenericModel\n",
      "    @ ~/.julia/packages/JuMP/as6Ji/src/JuMP.jl:174 [inlined]\n",
      " [13] set_up_compact_model(instance::InstanceVNE, one_to_one::Bool, departure_cst::Bool)\n",
      "    @ Main ~/VNE/solver-undirected/resolution/compact/compact_formulation.jl:19\n",
      " [14] solve_compact_integer(instance::InstanceVNE, one_to_one::Bool, departure_cst::Bool, time_solver::Int64, silent::Bool)\n",
      "    @ Main ~/VNE/solver-undirected/resolution/compact/compact_formulation.jl:131\n",
      " [15] top-level scope\n",
      "    @ ~/VNE/solver-undirected/resolution/vndecompo/clean.ipynb:1"
     ]
    }
   ],
   "source": [
    "mappings = solve_compact_integer(instance, true, true, 500, false)\n",
    "println(\"Valeur de la solution entière : \" * string(mappings[1].node_placement_cost + mappings[1].edge_routing_cost))"
   ]
  },
  {
   "cell_type": "markdown",
   "metadata": {},
   "source": [
    "### Relaxation linéaire"
   ]
  },
  {
   "cell_type": "code",
   "execution_count": 21,
   "metadata": {},
   "outputs": [
    {
     "name": "stdout",
     "output_type": "stream",
     "text": [
      "Constructing compact model... done."
     ]
    },
    {
     "name": "stdout",
     "output_type": "stream",
     "text": [
      "\n",
      "Starting solving... "
     ]
    },
    {
     "name": "stdout",
     "output_type": "stream",
     "text": [
      "Valeur de la relaxation linéaire en mode naze : 0.0\n"
     ]
    }
   ],
   "source": [
    "mappings = solve_compact_fractional(instance, false, false)\n",
    "println(\"Valeur de la relaxation linéaire en mode naze : \" * string(mappings[1].node_placement_cost + mappings[1].edge_routing_cost))"
   ]
  },
  {
   "cell_type": "code",
   "execution_count": 22,
   "metadata": {},
   "outputs": [
    {
     "name": "stdout",
     "output_type": "stream",
     "text": [
      "Constructing compact model... done."
     ]
    },
    {
     "name": "stdout",
     "output_type": "stream",
     "text": [
      "\n",
      "Starting solving... "
     ]
    },
    {
     "name": "stdout",
     "output_type": "stream",
     "text": [
      "Valeur de la relaxation linéaire en gucci : 26.99999999999998\n"
     ]
    }
   ],
   "source": [
    "mappings = solve_compact_fractional(instance, true, true)\n",
    "println(\"Valeur de la relaxation linéaire en gucci : \" * string(mappings[1].node_placement_cost + mappings[1].edge_routing_cost))"
   ]
  },
  {
   "cell_type": "markdown",
   "metadata": {},
   "source": [
    "### Column Generation"
   ]
  },
  {
   "cell_type": "code",
   "execution_count": 8,
   "metadata": {},
   "outputs": [],
   "source": [
    "#node_partitionning = [[[2, 3, 4], [5, 6, 7, 8, 9, 1]]]\n",
    "#vn_decompo_old(instance, node_partitionning)"
   ]
  },
  {
   "cell_type": "code",
   "execution_count": 37,
   "metadata": {},
   "outputs": [
    {
     "name": "stdout",
     "output_type": "stream",
     "text": [
      "Starting solving...\n",
      "Master problem set... Initial set of columns generated... "
     ]
    },
    {
     "name": "stdout",
     "output_type": "stream",
     "text": [
      "Starting column generation: \n",
      "Iter 0, CG value : 43.0, Lagrangian Bound: 21.0"
     ]
    },
    {
     "name": "stdout",
     "output_type": "stream",
     "text": [
      ", Nb Columns: 8\n",
      "Iter 1, CG value : 43.0"
     ]
    },
    {
     "name": "stdout",
     "output_type": "stream",
     "text": [
      ", Lagrangian Bound: 21.0, Nb Columns: 12\n",
      "Iter 2, CG value : 39.0, Lagrangian Bound: 21.0"
     ]
    },
    {
     "name": "stdout",
     "output_type": "stream",
     "text": [
      ", Nb Columns: 16\n",
      "Iter 3, CG value : 37.333"
     ]
    },
    {
     "name": "stdout",
     "output_type": "stream",
     "text": [
      ", Lagrangian Bound: 21.0, Nb Columns: 20\n",
      "Iter 4, CG value : 35.666, Lagrangian Bound: 21.0"
     ]
    },
    {
     "name": "stdout",
     "output_type": "stream",
     "text": [
      ", Nb Columns: 24\n",
      "Iter 5, CG value : 34.999"
     ]
    },
    {
     "name": "stdout",
     "output_type": "stream",
     "text": [
      ", Lagrangian Bound: 21.0, Nb Columns: 28\n",
      "Iter 6, CG value : 34.666, Lagrangian Bound: 21.0"
     ]
    },
    {
     "name": "stdout",
     "output_type": "stream",
     "text": [
      ", Nb Columns: 32\n",
      "Iter 7, CG value : 34.666"
     ]
    },
    {
     "name": "stdout",
     "output_type": "stream",
     "text": [
      ", Lagrangian Bound: 21.0, Nb Columns: 36\n",
      "Iter 8, CG value : 34.63, Lagrangian Bound: 21.0"
     ]
    },
    {
     "name": "stdout",
     "output_type": "stream",
     "text": [
      ", Nb Columns: 40\n",
      "Iter 9, CG value : 34.25"
     ]
    },
    {
     "name": "stdout",
     "output_type": "stream",
     "text": [
      ", Lagrangian Bound: 21.583, Nb Columns: 44\n",
      "Iter 10, CG value : 34.25, Lagrangian Bound: 22.083"
     ]
    },
    {
     "name": "stdout",
     "output_type": "stream",
     "text": [
      ", Nb Columns: 48\n",
      "Iter 11, CG value : 34.25"
     ]
    },
    {
     "name": "stdout",
     "output_type": "stream",
     "text": [
      ", Lagrangian Bound: 23.125, Nb Columns: 52\n",
      "Iter 12, CG value : 34.0, Lagrangian Bound: 23.125"
     ]
    },
    {
     "name": "stdout",
     "output_type": "stream",
     "text": [
      ", Nb Columns: 56\n",
      "Iter 13, CG value : 34.0"
     ]
    },
    {
     "name": "stdout",
     "output_type": "stream",
     "text": [
      ", Lagrangian Bound: 23.999, Nb Columns: 60\n",
      "Iter 14, CG value : 33.75, Lagrangian Bound: 23.999"
     ]
    },
    {
     "name": "stdout",
     "output_type": "stream",
     "text": [
      ", Nb Columns: 64\n",
      "Iter 15, CG value : 33.083"
     ]
    },
    {
     "name": "stdout",
     "output_type": "stream",
     "text": [
      ", Lagrangian Bound: 23.999, Nb Columns: 68\n",
      "Iter 16, CG value : 33.083, Lagrangian Bound: 23.999"
     ]
    },
    {
     "name": "stdout",
     "output_type": "stream",
     "text": [
      ", Nb Columns: 72\n",
      "Iter 17, CG value : 32.946"
     ]
    },
    {
     "name": "stdout",
     "output_type": "stream",
     "text": [
      ", Lagrangian Bound: 23.999, Nb Columns: 76\n",
      "Iter 18, CG value : 32.946, Lagrangian Bound: 23.999"
     ]
    },
    {
     "name": "stdout",
     "output_type": "stream",
     "text": [
      ", Nb Columns: 80\n",
      "Iter 19, CG value : 32.75"
     ]
    },
    {
     "name": "stdout",
     "output_type": "stream",
     "text": [
      ", Lagrangian Bound: 23.999, Nb Columns: 84\n",
      "Iter 20, CG value : 32.75, Lagrangian Bound: 23.999"
     ]
    },
    {
     "name": "stdout",
     "output_type": "stream",
     "text": [
      ", Nb Columns: 88\n",
      "Iter 21, CG value : 32.727"
     ]
    },
    {
     "name": "stdout",
     "output_type": "stream",
     "text": [
      ", Lagrangian Bound: 23.999, Nb Columns: 92\n",
      "Iter 22, CG value : 32.625, Lagrangian Bound: 24.249"
     ]
    },
    {
     "name": "stdout",
     "output_type": "stream",
     "text": [
      ", Nb Columns: 96\n",
      "Iter 23, CG value : 32.571"
     ]
    },
    {
     "name": "stdout",
     "output_type": "stream",
     "text": [
      ", Lagrangian Bound: 24.607, Nb Columns: 100\n",
      "Iter 24, CG value : 32.571, Lagrangian Bound: 26.333"
     ]
    },
    {
     "name": "stdout",
     "output_type": "stream",
     "text": [
      ", Nb Columns: 104\n",
      "Iter 25, CG value : 32.571"
     ]
    },
    {
     "name": "stdout",
     "output_type": "stream",
     "text": [
      ", Lagrangian Bound: 26.499, Nb Columns: 108\n",
      "Iter 26, CG value : 32.571, Lagrangian Bound: 29.371"
     ]
    },
    {
     "name": "stdout",
     "output_type": "stream",
     "text": [
      ", Nb Columns: 112\n",
      "Iter 27, CG value : 32.571"
     ]
    },
    {
     "name": "stdout",
     "output_type": "stream",
     "text": [
      ", Lagrangian Bound: 30.485, Nb Columns: 116\n",
      "Iter 28, CG value : 32.567, Lagrangian Bound: 31.297"
     ]
    },
    {
     "name": "stdout",
     "output_type": "stream",
     "text": [
      ", Nb Columns: 119\n",
      "Iter 29, CG value : 32.529"
     ]
    },
    {
     "name": "stdout",
     "output_type": "stream",
     "text": [
      ", Lagrangian Bound: 31.419, Nb Columns: 123\n",
      "Iter 30, CG value : 32.528, Lagrangian Bound: 31.446"
     ]
    },
    {
     "name": "stdout",
     "output_type": "stream",
     "text": [
      ", Nb Columns: 125\n",
      "Iter 31, CG value : 32.496"
     ]
    },
    {
     "name": "stdout",
     "output_type": "stream",
     "text": [
      ", Lagrangian Bound: 31.552, Nb Columns: 126\n",
      "Iter 32, CG value : 32.496, Lagrangian Bound: 31.625"
     ]
    },
    {
     "name": "stdout",
     "output_type": "stream",
     "text": [
      ", Nb Columns: 128\n",
      "Iter 33, CG value : 32.496"
     ]
    },
    {
     "name": "stdout",
     "output_type": "stream",
     "text": [
      ", Lagrangian Bound: 32.067, Nb Columns: 129\n",
      "Iter 34, CG value : 32.485, Lagrangian Bound: 32.144"
     ]
    },
    {
     "name": "stdout",
     "output_type": "stream",
     "text": [
      ", Nb Columns: 130\n",
      "Iter 35, CG value : 32.485"
     ]
    },
    {
     "name": "stdout",
     "output_type": "stream",
     "text": [
      ", Lagrangian Bound: 32.323, Nb Columns: 131\n",
      "Iter 36, CG value : 32.485, Lagrangian Bound: 32.323"
     ]
    },
    {
     "name": "stdout",
     "output_type": "stream",
     "text": [
      ", Nb Columns: 132\n",
      "Iter 37, CG value : 32.484"
     ]
    },
    {
     "name": "stdout",
     "output_type": "stream",
     "text": [
      ", Lagrangian Bound: 32.323, Nb Columns: 133\n",
      "Iter 38, CG value : 32.466, Lagrangian Bound: 32.333"
     ]
    },
    {
     "name": "stdout",
     "output_type": "stream",
     "text": [
      ", Nb Columns: 135\n",
      "Iter 39, CG value : 32.454"
     ]
    },
    {
     "name": "stdout",
     "output_type": "stream",
     "text": [
      ", Lagrangian Bound: 32.4, Nb Columns: 136\n",
      "Iter 40, CG value : 32.454, Lagrangian Bound: 32.431"
     ]
    },
    {
     "name": "stdout",
     "output_type": "stream",
     "text": [
      ", Nb Columns: 137\n",
      "Iter 41, CG value : 32.454"
     ]
    },
    {
     "name": "stdout",
     "output_type": "stream",
     "text": [
      ", Lagrangian Bound: 32.454, Nb Columns: 137\n",
      "________________ \n",
      "CG finished\n",
      "Final value: 32.454545454545446\n",
      "Time in MP: 1.6794071197509766, time in SP: 24.60645318031311\n",
      "Value integer : 38.0"
     ]
    },
    {
     "name": "stdout",
     "output_type": "stream",
     "text": [
      "\n"
     ]
    }
   ],
   "source": [
    "#node_partitionning = [[[1, 2, 3, 4, 5], [6, 7, 8, 9, 10], [11, 12, 13, 14, 15, 16]]]\n",
    "node_partitionning = [[[1, 2, 3, 4], [5, 6, 7, 8], [9, 10, 11, 12], [13, 14, 15, 16, 17]]]\n",
    "\n",
    "vn_decompo(instance, node_partitionning);"
   ]
  },
  {
   "cell_type": "code",
   "execution_count": 10,
   "metadata": {},
   "outputs": [],
   "source": []
  },
  {
   "cell_type": "code",
   "execution_count": 11,
   "metadata": {},
   "outputs": [],
   "source": []
  },
  {
   "cell_type": "code",
   "execution_count": 12,
   "metadata": {},
   "outputs": [],
   "source": []
  },
  {
   "cell_type": "code",
   "execution_count": 13,
   "metadata": {},
   "outputs": [],
   "source": []
  },
  {
   "cell_type": "code",
   "execution_count": 14,
   "metadata": {},
   "outputs": [
    {
     "ename": "UndefVarError",
     "evalue": "UndefVarError: `master_problem` not defined",
     "output_type": "error",
     "traceback": [
      "UndefVarError: `master_problem` not defined\n",
      "\n",
      "Stacktrace:\n",
      " [1] top-level scope\n",
      "   @ ~/VNE/solver-undirected/resolution/vndecompo/clean.ipynb:1"
     ]
    }
   ],
   "source": [
    "lambdas = master_problem.lambdas\n",
    "# lambda_values = value.(model[:lambda])\n",
    "y_values = value.(master_problem.model[:y])\n",
    "\n",
    "subgraph_mapping = Dict()\n",
    "connecting_edge_routing = Dict()\n",
    "\n",
    "for v_network in instance.v_networks\n",
    "\n",
    "    subgraph_mapping[v_network] = Dict()\n",
    "    for subgraph in vn_decompos[v_network].subgraphs\n",
    "        for mapping in vn_decompos[v_network].mappings[subgraph]\n",
    "            if value(lambdas[v_network][subgraph][mapping]) > 0.5\n",
    "                subgraph_mapping[v_network][subgraph] = mapping\n",
    "            end\n",
    "        end\n",
    "    end\n",
    "\n",
    "    connecting_edge_routing[v_network] = Dict()\n",
    "    for v_edge in vn_decompos[v_network].connecting_edges\n",
    "        used_edges = []\n",
    "        node_assignment_src = vn_decompos[v_network].node_assignment[src(v_edge)]\n",
    "        node_assignment_dst = vn_decompos[v_network].node_assignment[dst(v_edge)]\n",
    "        for s_edge in edges(instance.s_network)\n",
    "            if y_values[v_network, v_edge, s_edge] > 0.99\n",
    "                push!(used_edges, s_edge)\n",
    "            end\n",
    "        end\n",
    "        connecting_edge_routing[v_network][v_edge] = order_path(instance.s_network, used_edges, \n",
    "            subgraph_mapping[v_network][node_assignment_src[1]].node_placement[node_assignment_src[2]],\n",
    "            subgraph_mapping[v_network][node_assignment_dst[1]].node_placement[node_assignment_dst[2]] )\n",
    "    end\n",
    "\n",
    "end\n",
    "\n"
   ]
  },
  {
   "cell_type": "code",
   "execution_count": 15,
   "metadata": {},
   "outputs": [
    {
     "ename": "UndefVarError",
     "evalue": "UndefVarError: `vn_decompos` not defined",
     "output_type": "error",
     "traceback": [
      "UndefVarError: `vn_decompos` not defined\n",
      "\n",
      "Stacktrace:\n",
      " [1] top-level scope\n",
      "   @ ~/VNE/solver-undirected/resolution/vndecompo/clean.ipynb:8"
     ]
    }
   ],
   "source": [
    "# From where, we get a solution in the classic format\n",
    "mappings = []\n",
    "for v_network in instance.v_networks\n",
    "    \n",
    "    # node placement\n",
    "    node_placement = []\n",
    "    for v_node in vertices(v_network)\n",
    "        current_node_assignment = vn_decompos[v_network].node_assignment[v_node]\n",
    "        push!(node_placement, subgraph_mapping[v_network][current_node_assignment[1]].node_placement[current_node_assignment[2]])\n",
    "    end\n",
    "    \n",
    "    edge_routing = Dict()\n",
    "    for v_edge in edges(v_network)\n",
    "        node_assignment_src = vn_decompos[v_network].node_assignment[src(v_edge)]\n",
    "        node_assignment_dst = vn_decompos[v_network].node_assignment[dst(v_edge)]\n",
    "        if node_assignment_dst[1] == node_assignment_src[1]\n",
    "            edge_routing[v_edge] = subgraph_mapping[v_network][node_assignment_src[1]].edge_routing[get_edge(node_assignment_src[1], node_assignment_src[2], node_assignment_dst[2])]\n",
    "        elseif v_edge in vn_decompos[v_network].connecting_edges\n",
    "            edge_routing[v_edge] = connecting_edge_routing[v_network][v_edge]\n",
    "        else\n",
    "            println(\"wut\")\n",
    "        end\n",
    "    end\n",
    "\n",
    "    push!(mappings, MappingClassic(v_network, instance.s_network, node_placement, edge_routing))\n",
    "end\n",
    "\n"
   ]
  }
 ],
 "metadata": {
  "kernelspec": {
   "display_name": "Julia 1.9.3",
   "language": "julia",
   "name": "julia-1.9"
  },
  "language_info": {
   "file_extension": ".jl",
   "mimetype": "application/julia",
   "name": "julia",
   "version": "1.9.3"
  }
 },
 "nbformat": 4,
 "nbformat_minor": 2
}
