{
 "cells": [
  {
   "cell_type": "code",
   "execution_count": 1,
   "metadata": {},
   "outputs": [],
   "source": [
    "#using Pkg\n",
    "#Pkg.activate(\"../../my_environment\")\n",
    "\n",
    "using Graphs\n",
    "using MetaGraphsNext\n",
    "using Revise\n",
    "using DataStructures\n",
    "includet(\"../visu.jl\")\n",
    "includet(\"io.jl\")"
   ]
  },
  {
   "cell_type": "code",
   "execution_count": 3,
   "metadata": {},
   "outputs": [
    {
     "ename": "MethodError",
     "evalue": "MethodError: no method matching MetaGraph()\n\nClosest candidates are:\n  MetaGraph(!Matched::AbstractGraph{Code}, !Matched::Array{Pair{Label, VertexData}, 1}, !Matched::Array{Pair{Tuple{Label, Label}, EdgeData}, 1}) where {Code, Label, VertexData, EdgeData}\n   @ MetaGraphsNext ~/.julia/packages/MetaGraphsNext/KWB3R/src/metagraph.jl:145\n  MetaGraph(!Matched::AbstractGraph{Code}, !Matched::Array{Pair{Label, VertexData}, 1}, !Matched::Array{Pair{Tuple{Label, Label}, EdgeData}, 1}, !Matched::Any) where {Code, Label, VertexData, EdgeData}\n   @ MetaGraphsNext ~/.julia/packages/MetaGraphsNext/KWB3R/src/metagraph.jl:145\n  MetaGraph(!Matched::AbstractGraph{Code}, !Matched::Array{Pair{Label, VertexData}, 1}, !Matched::Array{Pair{Tuple{Label, Label}, EdgeData}, 1}, !Matched::Any, !Matched::Any) where {Code, Label, VertexData, EdgeData}\n   @ MetaGraphsNext ~/.julia/packages/MetaGraphsNext/KWB3R/src/metagraph.jl:145\n  ...\n",
     "output_type": "error",
     "traceback": [
      "MethodError: no method matching MetaGraph()\n",
      "\n",
      "Closest candidates are:\n",
      "  MetaGraph(!Matched::AbstractGraph{Code}, !Matched::Array{Pair{Label, VertexData}, 1}, !Matched::Array{Pair{Tuple{Label, Label}, EdgeData}, 1}) where {Code, Label, VertexData, EdgeData}\n",
      "   @ MetaGraphsNext ~/.julia/packages/MetaGraphsNext/KWB3R/src/metagraph.jl:145\n",
      "  MetaGraph(!Matched::AbstractGraph{Code}, !Matched::Array{Pair{Label, VertexData}, 1}, !Matched::Array{Pair{Tuple{Label, Label}, EdgeData}, 1}, !Matched::Any) where {Code, Label, VertexData, EdgeData}\n",
      "   @ MetaGraphsNext ~/.julia/packages/MetaGraphsNext/KWB3R/src/metagraph.jl:145\n",
      "  MetaGraph(!Matched::AbstractGraph{Code}, !Matched::Array{Pair{Label, VertexData}, 1}, !Matched::Array{Pair{Tuple{Label, Label}, EdgeData}, 1}, !Matched::Any, !Matched::Any) where {Code, Label, VertexData, EdgeData}\n",
      "   @ MetaGraphsNext ~/.julia/packages/MetaGraphsNext/KWB3R/src/metagraph.jl:145\n",
      "  ...\n",
      "\n",
      "\n",
      "Stacktrace:\n",
      " [1] top-level scope\n",
      "   @ ~/VNE/solver-undirected/utils/generation/some_topo.ipynb:2"
     ]
    }
   ],
   "source": []
  },
  {
   "cell_type": "code",
   "execution_count": 2,
   "metadata": {},
   "outputs": [
    {
     "ename": "UndefVarError",
     "evalue": "UndefVarError: `MetaDiGraph` not defined",
     "output_type": "error",
     "traceback": [
      "UndefVarError: `MetaDiGraph` not defined\n",
      "\n",
      "Stacktrace:\n",
      " [1] top-level scope\n",
      "   @ ~/VNE/solver-undirected/utils/generation/some_topo.ipynb:3"
     ]
    }
   ],
   "source": [
    "for i in 1:5\n",
    "\n",
    "    mg = MetaDiGraph()\n",
    "\n",
    "    set_prop!(mg, :name, \"triangle_\" * string(i))\n",
    "    set_prop!(mg, :type, \"virtual\")\n",
    "\n",
    "    add_vertices!(mg, 3)\n",
    "    add_edge!(mg, 1, 2)\n",
    "    add_edge!(mg, 2, 3)\n",
    "    add_edge!(mg, 3, 1)\n",
    "    add_edge!(mg, 3, 2)\n",
    "\n",
    "    for node in vertices(mg)\n",
    "        set_prop!(mg, node, :dem, rand(1:2))\n",
    "    end\n",
    "    for edge in edges(mg)\n",
    "        set_prop!(mg, edge, :dem, rand(1:2))\n",
    "    end\n",
    "    write_graph_to_json(mg)\n",
    "end"
   ]
  },
  {
   "cell_type": "code",
   "execution_count": 7,
   "metadata": {},
   "outputs": [],
   "source": [
    "# generating a clique of size n\n",
    "n = 5\n",
    "mg = MetaGraph(\n",
    "    DiGraph(),\n",
    "    Int,\n",
    "    Dict,\n",
    "    Dict,\n",
    "    Dict(:name=>\"clique_\" * string(n), :type=>\"substrate\")\n",
    ")\n",
    "\n",
    "for i in 1:n\n",
    "    add_vertex!(mg, i, Dict(:cap=> 1, :cost => 1))\n",
    "end\n",
    "\n",
    "for i in 1:n\n",
    "    for j in 1:n\n",
    "        if i!=j\n",
    "            add_edge!(mg, i, j, Dict(:cap => 1, :cost => 1))\n",
    "        end\n",
    "    end\n",
    "end\n",
    "\n",
    "write_s_network_to_json(mg)"
   ]
  },
  {
   "cell_type": "code",
   "execution_count": 8,
   "metadata": {},
   "outputs": [
    {
     "data": {
      "text/plain": [
       "410"
      ]
     },
     "metadata": {},
     "output_type": "display_data"
    }
   ],
   "source": [
    "# generating a wheel with n \n",
    "n = 3\n",
    "mg = MetaGraph(\n",
    "    DiGraph(),\n",
    "    Int,\n",
    "    Dict,\n",
    "    Dict,\n",
    "    Dict(:name=>\"wheel_\" * string(n), :type=>\"virtual\")\n",
    ")\n",
    "\n",
    "add_vertex!(mg, 1, Dict(:dem=> 1))\n",
    "add_vertex!(mg, 2, Dict(:dem=> 1))\n",
    "add_edge!(mg, 2, 1, Dict(:dem=>1))\n",
    "\n",
    "for i in 3:n+1\n",
    "    add_vertex!(mg, i, Dict(:dem=> 1))            \n",
    "    add_edge!(mg, i, 1, Dict(:dem=>1))\n",
    "    add_edge!(mg, i-1, i, Dict(:dem=>1))\n",
    "end\n",
    "add_edge!(mg, n+1, 2, Dict(:dem=>1))\n",
    "\n",
    "write_network_to_json(mg)"
   ]
  },
  {
   "cell_type": "code",
   "execution_count": 9,
   "metadata": {},
   "outputs": [
    {
     "data": {
      "image/png": "[encoded data removed]",
      "image/svg+xml": [
       "<?xml version=\"1.0\" encoding=\"utf-8\"?>\n",
       "<svg xmlns=\"http://www.w3.org/2000/svg\" xmlns:xlink=\"http://www.w3.org/1999/xlink\" width=\"600\" height=\"400\" viewBox=\"0 0 2400 1600\">\n",
       "<defs>\n",
       "  <clipPath id=\"clip300\">\n",
       "    <rect x=\"0\" y=\"0\" width=\"2400\" height=\"1600\"/>\n",
       "  </clipPath>\n",
       "</defs>\n",
       "<path clip-path=\"url(#clip300)\" d=\"M0 1600 L2400 1600 L2400 0 L0 0  Z\" fill=\"#ffffff\" fill-rule=\"evenodd\" fill-opacity=\"1\"/>\n",
       "<defs>\n",
       "  <clipPath id=\"clip301\">\n",
       "    <rect x=\"480\" y=\"0\" width=\"1681\" height=\"1600\"/>\n",
       "  </clipPath>\n",
       "</defs>\n",
       "<path clip-path=\"url(#clip300)\" d=\"M447.244 1552.76 L1952.76 1552.76 L1952.76 47.2441 L447.244 47.2441  Z\" fill=\"#ffffff\" fill-rule=\"evenodd\" fill-opacity=\"1\"/>\n",
       "<defs>\n",
       "  <clipPath id=\"clip302\">\n",
       "    <rect x=\"447\" y=\"47\" width=\"1507\" height=\"1507\"/>\n",
       "  </clipPath>\n",
       "</defs>\n",
       "<polyline clip-path=\"url(#clip302)\" style=\"stroke:#000000; stroke-linecap:round; stroke-linejoin:round; stroke-width:4; stroke-opacity:1; fill:none\" points=\"1737.68,1046.6 1720.92,1052.13 1704.17,1057.67 1687.43,1063.2 1670.71,1068.73 1654.01,1074.27 1637.35,1079.8 1620.71,1085.33 1604.12,1090.86 1587.58,1096.39 1571.09,1101.93 1554.67,1107.46 1538.3,1112.99 1522.01,1118.52 1505.8,1124.05 1489.67,1129.58 1473.64,1135.1 1457.7,1140.63 1441.86,1146.16 1426.12,1151.68 1410.51,1157.21 1395.01,1162.73 1379.64,1168.26 1364.4,1173.78 1349.3,1179.3 1334.34,1184.82 1319.52,1190.34 1304.85,1195.86 1290.3,1201.38 1275.89,1206.89 1261.59,1212.41 1247.4,1217.92 1233.33,1223.44 1219.35,1228.95 1205.48,1234.47 1191.69,1239.98 1177.98,1245.49 1164.36,1251 1150.81,1256.51 1137.32,1262.02 1123.89,1267.53 1110.52,1273.04 1097.19,1278.55 1083.91,1284.06 1070.66,1289.57 1057.44,1295.08 1044.25,1300.58 1031.07,1306.09 1017.91,1311.6 1004.75,1317.11 \"/>\n",
       "<polyline clip-path=\"url(#clip302)\" style=\"stroke:#000000; stroke-linecap:round; stroke-linejoin:round; stroke-width:4; stroke-opacity:1; fill:none\" points=\"1044.91,1319.81 1004.75,1317.11 1031.01,1286.6 \"/>\n",
       "<polyline clip-path=\"url(#clip302)\" style=\"stroke:#000000; stroke-linecap:round; stroke-linejoin:round; stroke-width:4; stroke-opacity:1; fill:none\" points=\"1004.75,1317.11 1017.91,1311.6 \"/>\n",
       "<polyline clip-path=\"url(#clip302)\" style=\"stroke:#000000; stroke-linecap:round; stroke-linejoin:round; stroke-width:4; stroke-opacity:1; fill:none\" points=\"1737.68,1046.6 1714.96,1036.89 1692.24,1027.18 1669.53,1017.47 1646.84,1007.77 1624.18,998.062 1601.54,988.359 1578.94,978.658 1556.39,968.961 1533.88,959.267 1511.42,949.576 1489.02,939.891 1466.69,930.209 1444.43,920.534 1422.25,910.863 1400.15,901.199 1378.14,891.541 1356.23,881.891 1334.42,872.247 1312.71,862.612 1291.12,852.984 1269.65,843.366 1248.3,833.756 1227.08,824.156 1206,814.566 1185.07,804.986 1164.27,795.417 1143.62,785.858 1123.09,776.308 1102.69,766.767 1082.41,757.235 1062.24,747.711 1042.18,738.195 1022.23,728.686 1002.36,719.185 982.589,709.689 962.899,700.2 943.286,690.717 923.745,681.238 904.27,671.765 884.854,662.295 865.491,652.83 846.177,643.368 826.904,633.909 807.667,624.453 788.46,614.999 769.276,605.547 750.111,596.096 730.957,586.645 711.809,577.196 \"/>\n",
       "<polyline clip-path=\"url(#clip302)\" style=\"stroke:#000000; stroke-linecap:round; stroke-linejoin:round; stroke-width:4; stroke-opacity:1; fill:none\" points=\"736.126,609.269 711.809,577.196 752.058,576.986 \"/>\n",
       "<polyline clip-path=\"url(#clip302)\" style=\"stroke:#000000; stroke-linecap:round; stroke-linejoin:round; stroke-width:4; stroke-opacity:1; fill:none\" points=\"711.809,577.196 730.957,586.645 \"/>\n",
       "<polyline clip-path=\"url(#clip302)\" style=\"stroke:#000000; stroke-linecap:round; stroke-linejoin:round; stroke-width:4; stroke-opacity:1; fill:none\" points=\"662.317,553.398 669.065,569.733 675.81,586.063 682.546,602.383 689.27,618.689 695.979,634.975 702.668,651.238 709.332,667.471 715.97,683.671 722.575,699.832 729.145,715.95 735.675,732.019 742.161,748.036 748.6,763.994 754.987,779.89 761.318,795.718 767.59,811.474 773.799,827.153 779.94,842.75 786.01,858.26 792.004,873.679 797.919,889.001 803.751,904.222 809.495,919.336 815.148,934.34 820.706,949.228 826.169,964.001 831.541,978.663 836.825,993.219 842.026,1007.67 847.148,1022.03 852.195,1036.3 857.169,1050.48 862.077,1064.57 866.921,1078.6 871.705,1092.54 876.434,1106.42 881.112,1120.24 885.741,1134 890.328,1147.71 894.874,1161.37 899.385,1174.98 903.864,1188.56 908.315,1202.1 912.742,1215.62 917.15,1229.11 921.541,1242.58 925.921,1256.03 930.293,1269.48 934.661,1282.92 \"/>\n",
       "<polyline clip-path=\"url(#clip302)\" style=\"stroke:#000000; stroke-linecap:round; stroke-linejoin:round; stroke-width:4; stroke-opacity:1; fill:none\" points=\"940.654,1243.12 934.661,1282.92 906.417,1254.25 \"/>\n",
       "<polyline clip-path=\"url(#clip302)\" style=\"stroke:#000000; stroke-linecap:round; stroke-linejoin:round; stroke-width:4; stroke-opacity:1; fill:none\" points=\"934.661,1282.92 930.293,1269.48 \"/>\n",
       "<polyline clip-path=\"url(#clip302)\" style=\"stroke:#000000; stroke-linecap:round; stroke-linejoin:round; stroke-width:4; stroke-opacity:1; fill:none\" points=\"662.317,553.398 679.075,547.865 695.827,542.332 712.567,536.799 729.289,531.266 745.987,525.734 762.655,520.201 779.286,514.669 795.876,509.137 812.418,503.605 828.906,498.074 845.334,492.543 861.696,487.013 877.985,481.483 894.197,475.954 910.325,470.425 926.363,464.897 942.305,459.369 958.144,453.843 973.876,448.317 989.494,442.792 1004.99,437.267 1020.36,431.744 1035.6,426.221 1050.7,420.7 1065.66,415.179 1080.48,409.66 1095.15,404.141 1109.7,398.624 1124.11,393.107 1138.41,387.591 1152.6,382.076 1166.67,376.562 1180.65,371.048 1194.52,365.535 1208.31,360.023 1222.01,354.511 1235.64,349 1249.19,343.489 1262.68,337.979 1276.11,332.469 1289.48,326.96 1302.81,321.451 1316.09,315.942 1329.34,310.433 1342.56,304.925 1355.75,299.417 1368.93,293.909 1382.09,288.401 1395.25,282.893 \"/>\n",
       "<polyline clip-path=\"url(#clip302)\" style=\"stroke:#000000; stroke-linecap:round; stroke-linejoin:round; stroke-width:4; stroke-opacity:1; fill:none\" points=\"1355.09,280.19 1395.25,282.893 1368.99,313.398 \"/>\n",
       "<polyline clip-path=\"url(#clip302)\" style=\"stroke:#000000; stroke-linecap:round; stroke-linejoin:round; stroke-width:4; stroke-opacity:1; fill:none\" points=\"1395.25,282.893 1382.09,288.401 \"/>\n",
       "<polyline clip-path=\"url(#clip302)\" style=\"stroke:#000000; stroke-linecap:round; stroke-linejoin:round; stroke-width:4; stroke-opacity:1; fill:none\" points=\"1446.6,262.317 1435.69,284.547 1424.79,306.772 1413.9,328.988 1403.02,351.19 1392.15,373.373 1381.31,395.532 1370.5,417.664 1359.72,439.763 1348.97,461.825 1338.26,483.844 1327.6,505.817 1316.98,527.738 1306.42,549.604 1295.92,571.409 1285.48,593.148 1275.1,614.817 1264.8,636.412 1254.57,657.927 1244.42,679.358 1234.36,700.7 1224.38,721.949 1214.5,743.1 1204.71,764.148 1195.03,785.088 1185.45,805.917 1175.98,826.634 1166.61,847.243 1157.34,867.75 1148.16,888.158 1139.07,908.473 1130.07,928.7 1121.14,948.842 1112.29,968.905 1103.51,988.893 1094.8,1008.81 1086.15,1028.66 1077.55,1048.46 1069.01,1068.19 1060.52,1087.88 1052.08,1107.51 1043.67,1127.11 1035.3,1146.67 1026.96,1166.19 1018.64,1185.69 1010.35,1205.17 1002.08,1224.62 993.817,1244.06 985.565,1263.5 977.318,1282.92 \"/>\n",
       "<polyline clip-path=\"url(#clip302)\" style=\"stroke:#000000; stroke-linecap:round; stroke-linejoin:round; stroke-width:4; stroke-opacity:1; fill:none\" points=\"1007.95,1256.82 977.318,1282.92 974.817,1242.75 \"/>\n",
       "<polyline clip-path=\"url(#clip302)\" style=\"stroke:#000000; stroke-linecap:round; stroke-linejoin:round; stroke-width:4; stroke-opacity:1; fill:none\" points=\"977.318,1282.92 985.565,1263.5 \"/>\n",
       "<polyline clip-path=\"url(#clip302)\" style=\"stroke:#000000; stroke-linecap:round; stroke-linejoin:round; stroke-width:4; stroke-opacity:1; fill:none\" points=\"1446.6,262.317 1453.35,278.652 1460.09,294.982 1466.83,311.302 1473.55,327.608 1480.26,343.894 1486.95,360.157 1493.62,376.39 1500.25,392.59 1506.86,408.751 1513.43,424.868 1519.96,440.938 1526.45,456.954 1532.88,472.913 1539.27,488.809 1545.6,504.637 1551.88,520.393 1558.08,536.072 1564.22,551.669 1570.29,567.179 1576.29,582.598 1582.2,597.92 1588.04,613.14 1593.78,628.255 1599.43,643.259 1604.99,658.147 1610.45,672.92 1615.83,687.582 1621.11,702.137 1626.31,716.592 1631.43,730.95 1636.48,745.216 1641.45,759.396 1646.36,773.494 1651.21,787.514 1655.99,801.462 1660.72,815.343 1665.4,829.161 1670.03,842.921 1674.61,856.628 1679.16,870.287 1683.67,883.902 1688.15,897.479 1692.6,911.022 1697.03,924.536 1701.43,938.026 1705.83,951.497 1710.21,964.953 1714.58,978.4 1718.95,991.842 \"/>\n",
       "<polyline clip-path=\"url(#clip302)\" style=\"stroke:#000000; stroke-linecap:round; stroke-linejoin:round; stroke-width:4; stroke-opacity:1; fill:none\" points=\"1724.94,952.041 1718.95,991.842 1690.7,963.167 \"/>\n",
       "<polyline clip-path=\"url(#clip302)\" style=\"stroke:#000000; stroke-linecap:round; stroke-linejoin:round; stroke-width:4; stroke-opacity:1; fill:none\" points=\"1718.95,991.842 1714.58,978.4 \"/>\n",
       "<path clip-path=\"url(#clip302)\" d=\"M1016.63 1337.68 L985.014 1282.92 L921.782 1282.92 L890.167 1337.68 L921.782 1392.44 L985.014 1392.44 L1016.63 1337.68 L1016.63 1337.68  Z\" fill=\"#009af9\" fill-rule=\"evenodd\" fill-opacity=\"1\"/>\n",
       "<polyline clip-path=\"url(#clip302)\" style=\"stroke:#000000; stroke-linecap:round; stroke-linejoin:round; stroke-width:4; stroke-opacity:1; fill:none\" points=\"1016.63,1337.68 985.014,1282.92 921.782,1282.92 890.167,1337.68 921.782,1392.44 985.014,1392.44 1016.63,1337.68 \"/>\n",
       "<path clip-path=\"url(#clip302)\" d=\"M1800.91 1046.6 L1769.3 991.842 L1706.07 991.842 L1674.45 1046.6 L1706.07 1101.36 L1769.3 1101.36 L1800.91 1046.6 L1800.91 1046.6  Z\" fill=\"#009af9\" fill-rule=\"evenodd\" fill-opacity=\"1\"/>\n",
       "<polyline clip-path=\"url(#clip302)\" style=\"stroke:#000000; stroke-linecap:round; stroke-linejoin:round; stroke-width:4; stroke-opacity:1; fill:none\" points=\"1800.91,1046.6 1769.3,991.842 1706.07,991.842 1674.45,1046.6 1706.07,1101.36 1769.3,1101.36 1800.91,1046.6 \"/>\n",
       "<path clip-path=\"url(#clip302)\" d=\"M725.549 553.398 L693.933 498.638 L630.701 498.638 L599.086 553.398 L630.701 608.159 L693.933 608.159 L725.549 553.398 L725.549 553.398  Z\" fill=\"#009af9\" fill-rule=\"evenodd\" fill-opacity=\"1\"/>\n",
       "<polyline clip-path=\"url(#clip302)\" style=\"stroke:#000000; stroke-linecap:round; stroke-linejoin:round; stroke-width:4; stroke-opacity:1; fill:none\" points=\"725.549,553.398 693.933,498.638 630.701,498.638 599.086,553.398 630.701,608.159 693.933,608.159 725.549,553.398 \"/>\n",
       "<path clip-path=\"url(#clip302)\" d=\"M1509.83 262.317 L1478.22 207.557 L1414.99 207.557 L1383.37 262.317 L1414.99 317.077 L1478.22 317.077 L1509.83 262.317 L1509.83 262.317  Z\" fill=\"#009af9\" fill-rule=\"evenodd\" fill-opacity=\"1\"/>\n",
       "<polyline clip-path=\"url(#clip302)\" style=\"stroke:#000000; stroke-linecap:round; stroke-linejoin:round; stroke-width:4; stroke-opacity:1; fill:none\" points=\"1509.83,262.317 1478.22,207.557 1414.99,207.557 1383.37,262.317 1414.99,317.077 1478.22,317.077 1509.83,262.317 \"/>\n",
       "<path clip-path=\"url(#clip302)\" d=\"M953.398 1338.48 L952.705 1338.08 L952.705 1337.28 L953.398 1336.88 L954.091 1337.28 L954.091 1338.08 Z\" fill=\"#009af9\" fill-rule=\"evenodd\" fill-opacity=\"1\" stroke=\"#000000\" stroke-opacity=\"1\" stroke-width=\"3.2\"/>\n",
       "<path clip-path=\"url(#clip302)\" d=\"M1737.68 1047.4 L1736.99 1047 L1736.99 1046.2 L1737.68 1045.8 L1738.38 1046.2 L1738.38 1047 Z\" fill=\"#009af9\" fill-rule=\"evenodd\" fill-opacity=\"1\" stroke=\"#000000\" stroke-opacity=\"1\" stroke-width=\"3.2\"/>\n",
       "<path clip-path=\"url(#clip302)\" d=\"M662.317 554.198 L661.624 553.798 L661.624 552.998 L662.317 552.598 L663.01 552.998 L663.01 553.798 Z\" fill=\"#009af9\" fill-rule=\"evenodd\" fill-opacity=\"1\" stroke=\"#000000\" stroke-opacity=\"1\" stroke-width=\"3.2\"/>\n",
       "<path clip-path=\"url(#clip302)\" d=\"M1446.6 263.117 L1445.91 262.717 L1445.91 261.917 L1446.6 261.517 L1447.29 261.917 L1447.29 262.717 Z\" fill=\"#009af9\" fill-rule=\"evenodd\" fill-opacity=\"1\" stroke=\"#000000\" stroke-opacity=\"1\" stroke-width=\"3.2\"/>\n",
       "<path clip-path=\"url(#clip300)\" d=\"M944.982 1349.36 L951.666 1349.36 L951.666 1326.29 L944.395 1327.75 L944.395 1324.02 L951.626 1322.56 L955.717 1322.56 L955.717 1349.36 L962.401 1349.36 L962.401 1352.8 L944.982 1352.8 L944.982 1349.36 Z\" fill=\"#000000\" fill-rule=\"nonzero\" fill-opacity=\"1\" /><path clip-path=\"url(#clip300)\" d=\"M1733 1058.28 L1747.28 1058.28 L1747.28 1061.72 L1728.08 1061.72 L1728.08 1058.28 Q1730.41 1055.87 1734.42 1051.82 Q1738.45 1047.75 1739.49 1046.57 Q1741.45 1044.36 1742.22 1042.84 Q1743.01 1041.31 1743.01 1039.83 Q1743.01 1037.42 1741.31 1035.9 Q1739.63 1034.38 1736.91 1034.38 Q1734.99 1034.38 1732.84 1035.05 Q1730.72 1035.71 1728.28 1037.07 L1728.28 1032.94 Q1730.76 1031.95 1732.9 1031.44 Q1735.05 1030.93 1736.83 1030.93 Q1741.53 1030.93 1744.33 1033.28 Q1747.12 1035.63 1747.12 1039.56 Q1747.12 1041.43 1746.41 1043.11 Q1745.72 1044.77 1743.88 1047.04 Q1743.37 1047.62 1740.66 1050.44 Q1737.95 1053.24 1733 1058.28 Z\" fill=\"#000000\" fill-rule=\"nonzero\" fill-opacity=\"1\" /><path clip-path=\"url(#clip300)\" d=\"M666.034 552.214 Q668.971 552.841 670.611 554.826 Q672.272 556.811 672.272 559.728 Q672.272 564.204 669.194 566.655 Q666.115 569.106 660.444 569.106 Q658.54 569.106 656.514 568.721 Q654.509 568.356 652.362 567.607 L652.362 563.657 Q654.063 564.65 656.089 565.156 Q658.114 565.663 660.322 565.663 Q664.17 565.663 666.176 564.144 Q668.201 562.624 668.201 559.728 Q668.201 557.054 666.317 555.556 Q664.454 554.036 661.112 554.036 L657.588 554.036 L657.588 550.674 L661.274 550.674 Q664.292 550.674 665.892 549.479 Q667.492 548.264 667.492 545.995 Q667.492 543.666 665.831 542.431 Q664.191 541.175 661.112 541.175 Q659.431 541.175 657.507 541.539 Q655.583 541.904 653.274 542.674 L653.274 539.028 Q655.603 538.38 657.628 538.056 Q659.674 537.732 661.477 537.732 Q666.135 537.732 668.849 539.858 Q671.563 541.965 671.563 545.57 Q671.563 548.082 670.125 549.824 Q668.687 551.545 666.034 552.214 Z\" fill=\"#000000\" fill-rule=\"nonzero\" fill-opacity=\"1\" /><path clip-path=\"url(#clip300)\" d=\"M1449.23 250.762 L1438.91 266.905 L1449.23 266.905 L1449.23 250.762 M1448.16 247.197 L1453.31 247.197 L1453.31 266.905 L1457.62 266.905 L1457.62 270.308 L1453.31 270.308 L1453.31 277.437 L1449.23 277.437 L1449.23 270.308 L1435.58 270.308 L1435.58 266.358 L1448.16 247.197 Z\" fill=\"#000000\" fill-rule=\"nonzero\" fill-opacity=\"1\" /></svg>\n"
      ],
      "text/html": [
       "<?xml version=\"1.0\" encoding=\"utf-8\"?>\n",
       "<svg xmlns=\"http://www.w3.org/2000/svg\" xmlns:xlink=\"http://www.w3.org/1999/xlink\" width=\"600\" height=\"400\" viewBox=\"0 0 2400 1600\">\n",
       "<defs>\n",
       "  <clipPath id=\"clip330\">\n",
       "    <rect x=\"0\" y=\"0\" width=\"2400\" height=\"1600\"/>\n",
       "  </clipPath>\n",
       "</defs>\n",
       "<path clip-path=\"url(#clip330)\" d=\"M0 1600 L2400 1600 L2400 0 L0 0  Z\" fill=\"#ffffff\" fill-rule=\"evenodd\" fill-opacity=\"1\"/>\n",
       "<defs>\n",
       "  <clipPath id=\"clip331\">\n",
       "    <rect x=\"480\" y=\"0\" width=\"1681\" height=\"1600\"/>\n",
       "  </clipPath>\n",
       "</defs>\n",
       "<path clip-path=\"url(#clip330)\" d=\"M447.244 1552.76 L1952.76 1552.76 L1952.76 47.2441 L447.244 47.2441  Z\" fill=\"#ffffff\" fill-rule=\"evenodd\" fill-opacity=\"1\"/>\n",
       "<defs>\n",
       "  <clipPath id=\"clip332\">\n",
       "    <rect x=\"447\" y=\"47\" width=\"1507\" height=\"1507\"/>\n",
       "  </clipPath>\n",
       "</defs>\n",
       "<polyline clip-path=\"url(#clip332)\" style=\"stroke:#000000; stroke-linecap:round; stroke-linejoin:round; stroke-width:4; stroke-opacity:1; fill:none\" points=\"1737.68,1046.6 1720.92,1052.13 1704.17,1057.67 1687.43,1063.2 1670.71,1068.73 1654.01,1074.27 1637.35,1079.8 1620.71,1085.33 1604.12,1090.86 1587.58,1096.39 1571.09,1101.93 1554.67,1107.46 1538.3,1112.99 1522.01,1118.52 1505.8,1124.05 1489.67,1129.58 1473.64,1135.1 1457.7,1140.63 1441.86,1146.16 1426.12,1151.68 1410.51,1157.21 1395.01,1162.73 1379.64,1168.26 1364.4,1173.78 1349.3,1179.3 1334.34,1184.82 1319.52,1190.34 1304.85,1195.86 1290.3,1201.38 1275.89,1206.89 1261.59,1212.41 1247.4,1217.92 1233.33,1223.44 1219.35,1228.95 1205.48,1234.47 1191.69,1239.98 1177.98,1245.49 1164.36,1251 1150.81,1256.51 1137.32,1262.02 1123.89,1267.53 1110.52,1273.04 1097.19,1278.55 1083.91,1284.06 1070.66,1289.57 1057.44,1295.08 1044.25,1300.58 1031.07,1306.09 1017.91,1311.6 1004.75,1317.11 \"/>\n",
       "<polyline clip-path=\"url(#clip332)\" style=\"stroke:#000000; stroke-linecap:round; stroke-linejoin:round; stroke-width:4; stroke-opacity:1; fill:none\" points=\"1044.91,1319.81 1004.75,1317.11 1031.01,1286.6 \"/>\n",
       "<polyline clip-path=\"url(#clip332)\" style=\"stroke:#000000; stroke-linecap:round; stroke-linejoin:round; stroke-width:4; stroke-opacity:1; fill:none\" points=\"1004.75,1317.11 1017.91,1311.6 \"/>\n",
       "<polyline clip-path=\"url(#clip332)\" style=\"stroke:#000000; stroke-linecap:round; stroke-linejoin:round; stroke-width:4; stroke-opacity:1; fill:none\" points=\"1737.68,1046.6 1714.96,1036.89 1692.24,1027.18 1669.53,1017.47 1646.84,1007.77 1624.18,998.062 1601.54,988.359 1578.94,978.658 1556.39,968.961 1533.88,959.267 1511.42,949.576 1489.02,939.891 1466.69,930.209 1444.43,920.534 1422.25,910.863 1400.15,901.199 1378.14,891.541 1356.23,881.891 1334.42,872.247 1312.71,862.612 1291.12,852.984 1269.65,843.366 1248.3,833.756 1227.08,824.156 1206,814.566 1185.07,804.986 1164.27,795.417 1143.62,785.858 1123.09,776.308 1102.69,766.767 1082.41,757.235 1062.24,747.711 1042.18,738.195 1022.23,728.686 1002.36,719.185 982.589,709.689 962.899,700.2 943.286,690.717 923.745,681.238 904.27,671.765 884.854,662.295 865.491,652.83 846.177,643.368 826.904,633.909 807.667,624.453 788.46,614.999 769.276,605.547 750.111,596.096 730.957,586.645 711.809,577.196 \"/>\n",
       "<polyline clip-path=\"url(#clip332)\" style=\"stroke:#000000; stroke-linecap:round; stroke-linejoin:round; stroke-width:4; stroke-opacity:1; fill:none\" points=\"736.126,609.269 711.809,577.196 752.058,576.986 \"/>\n",
       "<polyline clip-path=\"url(#clip332)\" style=\"stroke:#000000; stroke-linecap:round; stroke-linejoin:round; stroke-width:4; stroke-opacity:1; fill:none\" points=\"711.809,577.196 730.957,586.645 \"/>\n",
       "<polyline clip-path=\"url(#clip332)\" style=\"stroke:#000000; stroke-linecap:round; stroke-linejoin:round; stroke-width:4; stroke-opacity:1; fill:none\" points=\"662.317,553.398 669.065,569.733 675.81,586.063 682.546,602.383 689.27,618.689 695.979,634.975 702.668,651.238 709.332,667.471 715.97,683.671 722.575,699.832 729.145,715.95 735.675,732.019 742.161,748.036 748.6,763.994 754.987,779.89 761.318,795.718 767.59,811.474 773.799,827.153 779.94,842.75 786.01,858.26 792.004,873.679 797.919,889.001 803.751,904.222 809.495,919.336 815.148,934.34 820.706,949.228 826.169,964.001 831.541,978.663 836.825,993.219 842.026,1007.67 847.148,1022.03 852.195,1036.3 857.169,1050.48 862.077,1064.57 866.921,1078.6 871.705,1092.54 876.434,1106.42 881.112,1120.24 885.741,1134 890.328,1147.71 894.874,1161.37 899.385,1174.98 903.864,1188.56 908.315,1202.1 912.742,1215.62 917.15,1229.11 921.541,1242.58 925.921,1256.03 930.293,1269.48 934.661,1282.92 \"/>\n",
       "<polyline clip-path=\"url(#clip332)\" style=\"stroke:#000000; stroke-linecap:round; stroke-linejoin:round; stroke-width:4; stroke-opacity:1; fill:none\" points=\"940.654,1243.12 934.661,1282.92 906.417,1254.25 \"/>\n",
       "<polyline clip-path=\"url(#clip332)\" style=\"stroke:#000000; stroke-linecap:round; stroke-linejoin:round; stroke-width:4; stroke-opacity:1; fill:none\" points=\"934.661,1282.92 930.293,1269.48 \"/>\n",
       "<polyline clip-path=\"url(#clip332)\" style=\"stroke:#000000; stroke-linecap:round; stroke-linejoin:round; stroke-width:4; stroke-opacity:1; fill:none\" points=\"662.317,553.398 679.075,547.865 695.827,542.332 712.567,536.799 729.289,531.266 745.987,525.734 762.655,520.201 779.286,514.669 795.876,509.137 812.418,503.605 828.906,498.074 845.334,492.543 861.696,487.013 877.985,481.483 894.197,475.954 910.325,470.425 926.363,464.897 942.305,459.369 958.144,453.843 973.876,448.317 989.494,442.792 1004.99,437.267 1020.36,431.744 1035.6,426.221 1050.7,420.7 1065.66,415.179 1080.48,409.66 1095.15,404.141 1109.7,398.624 1124.11,393.107 1138.41,387.591 1152.6,382.076 1166.67,376.562 1180.65,371.048 1194.52,365.535 1208.31,360.023 1222.01,354.511 1235.64,349 1249.19,343.489 1262.68,337.979 1276.11,332.469 1289.48,326.96 1302.81,321.451 1316.09,315.942 1329.34,310.433 1342.56,304.925 1355.75,299.417 1368.93,293.909 1382.09,288.401 1395.25,282.893 \"/>\n",
       "<polyline clip-path=\"url(#clip332)\" style=\"stroke:#000000; stroke-linecap:round; stroke-linejoin:round; stroke-width:4; stroke-opacity:1; fill:none\" points=\"1355.09,280.19 1395.25,282.893 1368.99,313.398 \"/>\n",
       "<polyline clip-path=\"url(#clip332)\" style=\"stroke:#000000; stroke-linecap:round; stroke-linejoin:round; stroke-width:4; stroke-opacity:1; fill:none\" points=\"1395.25,282.893 1382.09,288.401 \"/>\n",
       "<polyline clip-path=\"url(#clip332)\" style=\"stroke:#000000; stroke-linecap:round; stroke-linejoin:round; stroke-width:4; stroke-opacity:1; fill:none\" points=\"1446.6,262.317 1435.69,284.547 1424.79,306.772 1413.9,328.988 1403.02,351.19 1392.15,373.373 1381.31,395.532 1370.5,417.664 1359.72,439.763 1348.97,461.825 1338.26,483.844 1327.6,505.817 1316.98,527.738 1306.42,549.604 1295.92,571.409 1285.48,593.148 1275.1,614.817 1264.8,636.412 1254.57,657.927 1244.42,679.358 1234.36,700.7 1224.38,721.949 1214.5,743.1 1204.71,764.148 1195.03,785.088 1185.45,805.917 1175.98,826.634 1166.61,847.243 1157.34,867.75 1148.16,888.158 1139.07,908.473 1130.07,928.7 1121.14,948.842 1112.29,968.905 1103.51,988.893 1094.8,1008.81 1086.15,1028.66 1077.55,1048.46 1069.01,1068.19 1060.52,1087.88 1052.08,1107.51 1043.67,1127.11 1035.3,1146.67 1026.96,1166.19 1018.64,1185.69 1010.35,1205.17 1002.08,1224.62 993.817,1244.06 985.565,1263.5 977.318,1282.92 \"/>\n",
       "<polyline clip-path=\"url(#clip332)\" style=\"stroke:#000000; stroke-linecap:round; stroke-linejoin:round; stroke-width:4; stroke-opacity:1; fill:none\" points=\"1007.95,1256.82 977.318,1282.92 974.817,1242.75 \"/>\n",
       "<polyline clip-path=\"url(#clip332)\" style=\"stroke:#000000; stroke-linecap:round; stroke-linejoin:round; stroke-width:4; stroke-opacity:1; fill:none\" points=\"977.318,1282.92 985.565,1263.5 \"/>\n",
       "<polyline clip-path=\"url(#clip332)\" style=\"stroke:#000000; stroke-linecap:round; stroke-linejoin:round; stroke-width:4; stroke-opacity:1; fill:none\" points=\"1446.6,262.317 1453.35,278.652 1460.09,294.982 1466.83,311.302 1473.55,327.608 1480.26,343.894 1486.95,360.157 1493.62,376.39 1500.25,392.59 1506.86,408.751 1513.43,424.868 1519.96,440.938 1526.45,456.954 1532.88,472.913 1539.27,488.809 1545.6,504.637 1551.88,520.393 1558.08,536.072 1564.22,551.669 1570.29,567.179 1576.29,582.598 1582.2,597.92 1588.04,613.14 1593.78,628.255 1599.43,643.259 1604.99,658.147 1610.45,672.92 1615.83,687.582 1621.11,702.137 1626.31,716.592 1631.43,730.95 1636.48,745.216 1641.45,759.396 1646.36,773.494 1651.21,787.514 1655.99,801.462 1660.72,815.343 1665.4,829.161 1670.03,842.921 1674.61,856.628 1679.16,870.287 1683.67,883.902 1688.15,897.479 1692.6,911.022 1697.03,924.536 1701.43,938.026 1705.83,951.497 1710.21,964.953 1714.58,978.4 1718.95,991.842 \"/>\n",
       "<polyline clip-path=\"url(#clip332)\" style=\"stroke:#000000; stroke-linecap:round; stroke-linejoin:round; stroke-width:4; stroke-opacity:1; fill:none\" points=\"1724.94,952.041 1718.95,991.842 1690.7,963.167 \"/>\n",
       "<polyline clip-path=\"url(#clip332)\" style=\"stroke:#000000; stroke-linecap:round; stroke-linejoin:round; stroke-width:4; stroke-opacity:1; fill:none\" points=\"1718.95,991.842 1714.58,978.4 \"/>\n",
       "<path clip-path=\"url(#clip332)\" d=\"M1016.63 1337.68 L985.014 1282.92 L921.782 1282.92 L890.167 1337.68 L921.782 1392.44 L985.014 1392.44 L1016.63 1337.68 L1016.63 1337.68  Z\" fill=\"#009af9\" fill-rule=\"evenodd\" fill-opacity=\"1\"/>\n",
       "<polyline clip-path=\"url(#clip332)\" style=\"stroke:#000000; stroke-linecap:round; stroke-linejoin:round; stroke-width:4; stroke-opacity:1; fill:none\" points=\"1016.63,1337.68 985.014,1282.92 921.782,1282.92 890.167,1337.68 921.782,1392.44 985.014,1392.44 1016.63,1337.68 \"/>\n",
       "<path clip-path=\"url(#clip332)\" d=\"M1800.91 1046.6 L1769.3 991.842 L1706.07 991.842 L1674.45 1046.6 L1706.07 1101.36 L1769.3 1101.36 L1800.91 1046.6 L1800.91 1046.6  Z\" fill=\"#009af9\" fill-rule=\"evenodd\" fill-opacity=\"1\"/>\n",
       "<polyline clip-path=\"url(#clip332)\" style=\"stroke:#000000; stroke-linecap:round; stroke-linejoin:round; stroke-width:4; stroke-opacity:1; fill:none\" points=\"1800.91,1046.6 1769.3,991.842 1706.07,991.842 1674.45,1046.6 1706.07,1101.36 1769.3,1101.36 1800.91,1046.6 \"/>\n",
       "<path clip-path=\"url(#clip332)\" d=\"M725.549 553.398 L693.933 498.638 L630.701 498.638 L599.086 553.398 L630.701 608.159 L693.933 608.159 L725.549 553.398 L725.549 553.398  Z\" fill=\"#009af9\" fill-rule=\"evenodd\" fill-opacity=\"1\"/>\n",
       "<polyline clip-path=\"url(#clip332)\" style=\"stroke:#000000; stroke-linecap:round; stroke-linejoin:round; stroke-width:4; stroke-opacity:1; fill:none\" points=\"725.549,553.398 693.933,498.638 630.701,498.638 599.086,553.398 630.701,608.159 693.933,608.159 725.549,553.398 \"/>\n",
       "<path clip-path=\"url(#clip332)\" d=\"M1509.83 262.317 L1478.22 207.557 L1414.99 207.557 L1383.37 262.317 L1414.99 317.077 L1478.22 317.077 L1509.83 262.317 L1509.83 262.317  Z\" fill=\"#009af9\" fill-rule=\"evenodd\" fill-opacity=\"1\"/>\n",
       "<polyline clip-path=\"url(#clip332)\" style=\"stroke:#000000; stroke-linecap:round; stroke-linejoin:round; stroke-width:4; stroke-opacity:1; fill:none\" points=\"1509.83,262.317 1478.22,207.557 1414.99,207.557 1383.37,262.317 1414.99,317.077 1478.22,317.077 1509.83,262.317 \"/>\n",
       "<path clip-path=\"url(#clip332)\" d=\"M953.398 1338.48 L952.705 1338.08 L952.705 1337.28 L953.398 1336.88 L954.091 1337.28 L954.091 1338.08 Z\" fill=\"#009af9\" fill-rule=\"evenodd\" fill-opacity=\"1\" stroke=\"#000000\" stroke-opacity=\"1\" stroke-width=\"3.2\"/>\n",
       "<path clip-path=\"url(#clip332)\" d=\"M1737.68 1047.4 L1736.99 1047 L1736.99 1046.2 L1737.68 1045.8 L1738.38 1046.2 L1738.38 1047 Z\" fill=\"#009af9\" fill-rule=\"evenodd\" fill-opacity=\"1\" stroke=\"#000000\" stroke-opacity=\"1\" stroke-width=\"3.2\"/>\n",
       "<path clip-path=\"url(#clip332)\" d=\"M662.317 554.198 L661.624 553.798 L661.624 552.998 L662.317 552.598 L663.01 552.998 L663.01 553.798 Z\" fill=\"#009af9\" fill-rule=\"evenodd\" fill-opacity=\"1\" stroke=\"#000000\" stroke-opacity=\"1\" stroke-width=\"3.2\"/>\n",
       "<path clip-path=\"url(#clip332)\" d=\"M1446.6 263.117 L1445.91 262.717 L1445.91 261.917 L1446.6 261.517 L1447.29 261.917 L1447.29 262.717 Z\" fill=\"#009af9\" fill-rule=\"evenodd\" fill-opacity=\"1\" stroke=\"#000000\" stroke-opacity=\"1\" stroke-width=\"3.2\"/>\n",
       "<path clip-path=\"url(#clip330)\" d=\"M944.982 1349.36 L951.666 1349.36 L951.666 1326.29 L944.395 1327.75 L944.395 1324.02 L951.626 1322.56 L955.717 1322.56 L955.717 1349.36 L962.401 1349.36 L962.401 1352.8 L944.982 1352.8 L944.982 1349.36 Z\" fill=\"#000000\" fill-rule=\"nonzero\" fill-opacity=\"1\" /><path clip-path=\"url(#clip330)\" d=\"M1733 1058.28 L1747.28 1058.28 L1747.28 1061.72 L1728.08 1061.72 L1728.08 1058.28 Q1730.41 1055.87 1734.42 1051.82 Q1738.45 1047.75 1739.49 1046.57 Q1741.45 1044.36 1742.22 1042.84 Q1743.01 1041.31 1743.01 1039.83 Q1743.01 1037.42 1741.31 1035.9 Q1739.63 1034.38 1736.91 1034.38 Q1734.99 1034.38 1732.84 1035.05 Q1730.72 1035.71 1728.28 1037.07 L1728.28 1032.94 Q1730.76 1031.95 1732.9 1031.44 Q1735.05 1030.93 1736.83 1030.93 Q1741.53 1030.93 1744.33 1033.28 Q1747.12 1035.63 1747.12 1039.56 Q1747.12 1041.43 1746.41 1043.11 Q1745.72 1044.77 1743.88 1047.04 Q1743.37 1047.62 1740.66 1050.44 Q1737.95 1053.24 1733 1058.28 Z\" fill=\"#000000\" fill-rule=\"nonzero\" fill-opacity=\"1\" /><path clip-path=\"url(#clip330)\" d=\"M666.034 552.214 Q668.971 552.841 670.611 554.826 Q672.272 556.811 672.272 559.728 Q672.272 564.204 669.194 566.655 Q666.115 569.106 660.444 569.106 Q658.54 569.106 656.514 568.721 Q654.509 568.356 652.362 567.607 L652.362 563.657 Q654.063 564.65 656.089 565.156 Q658.114 565.663 660.322 565.663 Q664.17 565.663 666.176 564.144 Q668.201 562.624 668.201 559.728 Q668.201 557.054 666.317 555.556 Q664.454 554.036 661.112 554.036 L657.588 554.036 L657.588 550.674 L661.274 550.674 Q664.292 550.674 665.892 549.479 Q667.492 548.264 667.492 545.995 Q667.492 543.666 665.831 542.431 Q664.191 541.175 661.112 541.175 Q659.431 541.175 657.507 541.539 Q655.583 541.904 653.274 542.674 L653.274 539.028 Q655.603 538.38 657.628 538.056 Q659.674 537.732 661.477 537.732 Q666.135 537.732 668.849 539.858 Q671.563 541.965 671.563 545.57 Q671.563 548.082 670.125 549.824 Q668.687 551.545 666.034 552.214 Z\" fill=\"#000000\" fill-rule=\"nonzero\" fill-opacity=\"1\" /><path clip-path=\"url(#clip330)\" d=\"M1449.23 250.762 L1438.91 266.905 L1449.23 266.905 L1449.23 250.762 M1448.16 247.197 L1453.31 247.197 L1453.31 266.905 L1457.62 266.905 L1457.62 270.308 L1453.31 270.308 L1453.31 277.437 L1449.23 277.437 L1449.23 270.308 L1435.58 270.308 L1435.58 266.358 L1448.16 247.197 Z\" fill=\"#000000\" fill-rule=\"nonzero\" fill-opacity=\"1\" /></svg>\n"
      ]
     },
     "metadata": {},
     "output_type": "display_data"
    }
   ],
   "source": [
    "visu_graph(mg)"
   ]
  },
  {
   "cell_type": "code",
   "execution_count": 10,
   "metadata": {},
   "outputs": [],
   "source": []
  },
  {
   "cell_type": "code",
   "execution_count": 11,
   "metadata": {},
   "outputs": [],
   "source": []
  },
  {
   "cell_type": "code",
   "execution_count": null,
   "metadata": {},
   "outputs": [],
   "source": []
  }
 ],
 "metadata": {
  "kernelspec": {
   "display_name": "Julia 1.9.3",
   "language": "julia",
   "name": "julia-1.9"
  },
  "language_info": {
   "file_extension": ".jl",
   "mimetype": "application/julia",
   "name": "julia",
   "version": "1.9.3"
  }
 },
 "nbformat": 4,
 "nbformat_minor": 2
}
