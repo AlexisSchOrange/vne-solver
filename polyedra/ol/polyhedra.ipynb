{
 "cells": [
  {
   "cell_type": "code",
   "execution_count": 3,
   "metadata": {},
   "outputs": [],
   "source": [
    "using Revise\n",
    "includet(\"../utils/file_reader.jl\")\n",
    "includet(\"poly.jl\")"
   ]
  },
  {
   "cell_type": "code",
   "execution_count": 5,
   "metadata": {},
   "outputs": [
    {
     "name": "stdout",
     "output_type": "stream",
     "text": [
      "Constructing compact model... done.\n",
      "\n",
      "\n",
      "There are 36 solutions\n"
     ]
    }
   ],
   "source": [
    "instance = get_instance_from_folder(\"instances/tests/starcuts/4\")\n",
    "h_rep, names_variables = do_everything(instance);\n"
   ]
  },
  {
   "cell_type": "code",
   "execution_count": 6,
   "metadata": {},
   "outputs": [
    {
     "name": "stdout",
     "output_type": "stream",
     "text": [
      "There are 80 variables.\n",
      "\n",
      "There are 65 hyperplanes\n",
      "- 1 x_1_1\t = -1\n",
      "- 1 x_1_2\t = 0\n",
      "- 1 x_1_3\t = 0\n",
      "- 1 x_1_4\t = 0\n",
      "- 1 x_1_5\t = 0\n",
      "- 1 x_2_1\t = 0\n",
      "- 1 x_2_2\t- 1 x_2_3\t- 1 x_2_4\t- 1 x_2_5\t = -1\n",
      "- 1 x_3_1\t = 0\n",
      "- 1 x_3_2\t- 1 x_3_3\t- 1 x_3_4\t- 1 x_3_5\t = -1\n",
      "- 1 x_4_1\t = 0\n",
      "- 1 x_4_2\t- 1 x_4_3\t- 1 x_4_4\t- 1 x_4_5\t = -1\n",
      "+ 1 x_2_2\t- 1 y_12_12\t = 0\n",
      "+ 1 x_2_3\t- 1 y_12_13\t = 0\n",
      "- 1 x_2_2\t- 1 x_2_3\t- 1 y_12_14\t- 1 y_12_15\t = -1\n",
      "- 1 y_12_21\t = 0\n",
      "- 1 y_12_31\t = 0\n",
      "- 1 y_12_41\t = 0\n",
      "- 1 y_12_51\t = 0\n",
      "+ 1 x_2_4\t- 1 y_12_14\t+ 1 y_12_45\t- 1 y_12_54\t = 0\n",
      "+ 1 x_3_2\t- 1 y_13_12\t = 0\n",
      "+ 1 x_3_3\t- 1 y_13_13\t = 0\n",
      "- 1 x_3_2\t- 1 x_3_3\t- 1 y_13_14\t- 1 y_13_15\t = -1\n",
      "- 1 y_13_21\t = 0\n",
      "- 1 y_13_31\t = 0\n",
      "- 1 y_13_41\t = 0\n",
      "- 1 y_13_51\t = 0\n",
      "+ 1 x_3_4\t- 1 y_13_14\t+ 1 y_13_45\t- 1 y_13_54\t = 0\n",
      "+ 1 x_4_2\t- 1 y_14_12\t = 0\n",
      "+ 1 x_4_3\t- 1 y_14_13\t = 0\n",
      "- 1 x_4_2\t- 1 x_4_3\t- 1 y_14_14\t- 1 y_14_15\t = -1\n",
      "- 1 y_14_21\t = 0\n",
      "- 1 y_14_31\t = 0\n",
      "- 1 y_14_41\t = 0\n",
      "- 1 y_14_51\t = 0\n",
      "+ 1 x_4_4\t- 1 y_14_14\t+ 1 y_14_45\t- 1 y_14_54\t = 0\n",
      "- 1 y_21_12\t = 0\n",
      "- 1 y_21_13\t = 0\n",
      "- 1 y_21_14\t = 0\n",
      "- 1 y_21_15\t = 0\n",
      "+ 1 x_2_2\t- 1 y_21_21\t = 0\n",
      "+ 1 x_2_3\t- 1 y_21_31\t = 0\n",
      "+ 1 y_12_14\t- 1 y_21_41\t = 0\n",
      "+ 1 x_2_4\t- 1 y_12_14\t+ 1 y_12_45\t- 1 y_21_45\t = 0\n",
      "- 1 x_2_2\t- 1 x_2_3\t- 1 y_12_14\t- 1 y_21_51\t = -1\n",
      "+ 1 y_12_45\t- 1 y_21_54\t = 0\n",
      "- 1 y_31_12\t = 0\n",
      "- 1 y_31_13\t = 0\n",
      "- 1 y_31_14\t = 0\n",
      "- 1 y_31_15\t = 0\n",
      "+ 1 x_3_2\t- 1 y_31_21\t = 0\n",
      "+ 1 x_3_3\t- 1 y_31_31\t = 0\n",
      "+ 1 y_13_14\t- 1 y_31_41\t = 0\n",
      "+ 1 x_3_4\t- 1 y_13_14\t+ 1 y_13_45\t- 1 y_31_45\t = 0\n",
      "- 1 x_3_2\t- 1 x_3_3\t- 1 y_13_14\t- 1 y_31_51\t = -1\n",
      "+ 1 y_13_45\t- 1 y_31_54\t = 0\n",
      "- 1 y_41_12\t = 0\n",
      "- 1 y_41_13\t = 0\n",
      "- 1 y_41_14\t = 0\n",
      "- 1 y_41_15\t = 0\n",
      "+ 1 x_4_2\t- 1 y_41_21\t = 0\n",
      "+ 1 x_4_3\t- 1 y_41_31\t = 0\n",
      "+ 1 y_14_14\t- 1 y_41_41\t = 0\n",
      "+ 1 x_4_4\t- 1 y_14_14\t+ 1 y_14_45\t- 1 y_41_45\t = 0\n",
      "- 1 x_4_2\t- 1 x_4_3\t- 1 y_14_14\t- 1 y_41_51\t = -1\n",
      "+ 1 y_14_45\t- 1 y_41_54\t = 0\n",
      "\n",
      "\n",
      " There are 31 halfspaces\n",
      "- 1 y_14_14\t+ 1 y_14_45\t ≤ 0\n",
      "- 1 x_2_2\t- 1 x_2_3\t- 1 x_3_2\t- 1 x_3_3\t- 1 x_4_2\t- 1 x_4_3\t- 1 y_12_14\t+ 1 y_12_45\t- 1 y_13_14\t+ 1 y_13_45\t- 1 y_14_14\t+ 1 y_14_45\t ≤ -2\n",
      "- 1 x_2_2\t- 1 x_2_3\t+ 1 x_3_4\t+ 1 x_4_4\t- 1 y_13_14\t+ 2 y_13_45\t- 1 y_14_14\t+ 2 y_14_45\t ≤ 0\n",
      "+ 1 x_2_4\t- 1 x_3_2\t- 1 x_3_3\t+ 1 x_4_4\t- 1 y_12_14\t+ 2 y_12_45\t- 1 y_14_14\t+ 2 y_14_45\t ≤ 0\n",
      "- 1 x_2_3\t- 1 x_3_3\t+ 1 x_4_4\t- 1 y_14_14\t+ 2 y_14_45\t ≤ 0\n",
      "- 1 x_2_2\t- 1 x_3_2\t+ 1 x_4_4\t- 1 y_14_14\t+ 2 y_14_45\t ≤ 0\n",
      "- 1 x_2_2\t+ 1 x_3_4\t- 1 x_4_2\t- 1 y_13_14\t+ 2 y_13_45\t ≤ 0\n",
      "- 1 x_2_2\t ≤ 0\n",
      "+ 1 x_2_4\t- 1 x_3_3\t- 1 x_4_3\t- 1 y_12_14\t+ 2 y_12_45\t ≤ 0\n",
      "- 1 x_3_3\t ≤ 0\n",
      "- 1 x_4_4\t+ 1 y_14_14\t- 1 y_14_45\t ≤ 0\n",
      "- 1 x_2_3\t+ 1 x_3_4\t- 1 x_4_3\t- 1 y_13_14\t+ 2 y_13_45\t ≤ 0\n",
      "+ 1 x_2_4\t- 1 x_3_2\t- 1 x_4_2\t- 1 y_12_14\t+ 2 y_12_45\t ≤ 0\n",
      "- 1 x_2_3\t ≤ 0\n",
      "- 1 x_3_2\t ≤ 0\n",
      "- 1 y_14_45\t ≤ 0\n",
      "+ 1 x_2_4\t+ 1 x_3_4\t+ 1 x_4_4\t+ 1 y_12_45\t+ 1 y_13_45\t+ 1 y_14_45\t ≤ 1\n",
      "+ 1 x_4_2\t+ 1 x_4_3\t+ 1 x_4_4\t+ 1 y_14_45\t ≤ 1\n",
      "+ 1 x_2_4\t+ 1 x_3_4\t- 1 x_4_2\t- 1 x_4_3\t- 1 y_12_14\t+ 2 y_12_45\t- 1 y_13_14\t+ 2 y_13_45\t ≤ 0\n",
      "- 1 y_13_14\t+ 1 y_13_45\t ≤ 0\n",
      "- 1 x_4_3\t ≤ 0\n",
      "- 1 x_3_4\t+ 1 y_13_14\t- 1 y_13_45\t ≤ 0\n",
      "- 1 x_4_2\t ≤ 0\n",
      "+ 1 x_2_3\t+ 1 x_3_3\t+ 1 x_4_3\t ≤ 1\n",
      "- 1 y_13_45\t ≤ 0\n",
      "+ 1 x_3_2\t+ 1 x_3_3\t+ 1 x_3_4\t+ 1 y_13_45\t ≤ 1\n",
      "- 1 y_12_14\t+ 1 y_12_45\t ≤ 0\n",
      "+ 1 x_2_2\t+ 1 x_3_2\t+ 1 x_4_2\t ≤ 1\n",
      "+ 1 x_2_2\t+ 1 x_2_3\t+ 1 x_2_4\t+ 1 y_12_45\t ≤ 1\n",
      "- 1 x_2_4\t+ 1 y_12_14\t- 1 y_12_45\t ≤ 0\n",
      "- 1 y_12_45\t ≤ 0\n"
     ]
    }
   ],
   "source": [
    "print_polytope_simpler(h_rep, names_variables);"
   ]
  },
  {
   "cell_type": "code",
   "execution_count": 3,
   "metadata": {},
   "outputs": [],
   "source": [
    "instance = get_instance_from_folder(\"instances/tests/starcuts/4\")\n",
    "h_rep, names_variables = do_everything(instance);\n",
    "print_polytope(h_rep, names_variables);"
   ]
  },
  {
   "cell_type": "code",
   "execution_count": 3,
   "metadata": {},
   "outputs": [
    {
     "name": "stdout",
     "output_type": "stream",
     "text": [
      "1 : x_1_1\n",
      "2 : x_1_2\n",
      "3 : x_1_3\n",
      "4 : x_1_4\n",
      "5 : x_1_5\n",
      "6 : x_2_1\n",
      "7 : x_2_2\n",
      "8 : x_2_3\n",
      "9 : x_2_4\n",
      "10 : x_2_5\n",
      "11 : x_3_1\n",
      "12 : x_3_2\n",
      "13 : x_3_3\n",
      "14 : x_3_4\n",
      "15 : x_3_5\n",
      "16 : x_4_1\n",
      "17 : x_4_2\n",
      "18 : x_4_3\n",
      "19 : x_4_4\n",
      "20 : x_4_5\n",
      "21 : y_12_12\n",
      "22 : y_12_13\n",
      "23 : y_12_14\n",
      "24 : y_12_15\n",
      "25 : y_12_21\n",
      "26 : y_12_31\n",
      "27 : y_12_41\n",
      "28 : y_12_45\n",
      "29 : y_12_51\n",
      "30 : y_12_54\n",
      "31 : y_13_12\n",
      "32 : y_13_13\n",
      "33 : y_13_14\n",
      "34 : y_13_15\n",
      "35 : y_13_21\n",
      "36 : y_13_31\n",
      "37 : y_13_41\n",
      "38 : y_13_45\n",
      "39 : y_13_51\n",
      "40 : y_13_54\n",
      "41 : y_14_12\n",
      "42 : y_14_13\n",
      "43 : y_14_14\n",
      "44 : y_14_15\n",
      "45 : y_14_21\n",
      "46 : y_14_31\n",
      "47 : y_14_41\n",
      "48 : y_14_45\n",
      "49 : y_14_51\n",
      "50 : y_14_54\n",
      "51 : y_21_12\n",
      "52 : y_21_13\n",
      "53 : y_21_14\n",
      "54 : y_21_15\n",
      "55 : y_21_21\n",
      "56 : y_21_31\n",
      "57 : y_21_41\n",
      "58 : y_21_45\n",
      "59 : y_21_51\n",
      "60 : y_21_54\n",
      "61 : y_31_12\n",
      "62 : y_31_13\n",
      "63 : y_31_14\n",
      "64 : y_31_15\n",
      "65 : y_31_21\n",
      "66 : y_31_31\n",
      "67 : y_31_41\n",
      "68 : y_31_45\n",
      "69 : y_31_51\n",
      "70 : y_31_54\n",
      "71 : y_41_12\n",
      "72 : y_41_13\n",
      "73 : y_41_14\n",
      "74 : y_41_15\n",
      "75 : y_41_21\n",
      "76 : y_41_31\n",
      "77 : y_41_41\n",
      "78 : y_41_45\n",
      "79 : y_41_51\n",
      "80 : y_41_54\n"
     ]
    }
   ],
   "source": [
    "print_variable(names_variables)\n"
   ]
  },
  {
   "cell_type": "code",
   "execution_count": null,
   "metadata": {},
   "outputs": [],
   "source": [
    "poly_clean, names_variables_clean = eliminate_variables(poly, names_variables, [2, 4, 5, 6, 8, 18, 19, 21, 22])\n",
    "h_rep_clean = hrep(poly_clean)\n",
    "print_polytope(h_rep_clean, names_variables_clean)"
   ]
  },
  {
   "cell_type": "code",
   "execution_count": null,
   "metadata": {},
   "outputs": [],
   "source": [
    "print_variable(names_variables)"
   ]
  },
  {
   "cell_type": "code",
   "execution_count": null,
   "metadata": {},
   "outputs": [],
   "source": [
    "instance = get_instance_from_folder(\"instances/tests2/star/\")"
   ]
  },
  {
   "cell_type": "code",
   "execution_count": null,
   "metadata": {},
   "outputs": [],
   "source": [
    "all_sols, names_variables = get_v_rep_convexhull(instance)"
   ]
  },
  {
   "cell_type": "code",
   "execution_count": null,
   "metadata": {},
   "outputs": [],
   "source": [
    "v_rep = vrep(all_sols)\n",
    "poly = polyhedron(v_rep, CDDLib.Library(:float))\n",
    "h_rep = hrep(poly)\n",
    "print_polytope(h_rep, names_variables)"
   ]
  },
  {
   "cell_type": "code",
   "execution_count": null,
   "metadata": {},
   "outputs": [],
   "source": [
    "print_variable(names_variables)"
   ]
  },
  {
   "cell_type": "code",
   "execution_count": null,
   "metadata": {},
   "outputs": [],
   "source": [
    "poly_clean, names_variables_clean = eliminate_variables(poly, names_variables, [2, 4, 7, 8, 11, 12, 14, 16])\n",
    "h_rep_clean = hrep(poly_clean)\n",
    "print_polytope(h_rep_clean, names_variables_clean)"
   ]
  },
  {
   "cell_type": "code",
   "execution_count": null,
   "metadata": {},
   "outputs": [],
   "source": []
  }
 ],
 "metadata": {
  "kernelspec": {
   "display_name": "Julia 1.9.3",
   "language": "julia",
   "name": "julia-1.9"
  },
  "language_info": {
   "file_extension": ".jl",
   "mimetype": "application/julia",
   "name": "julia",
   "version": "1.9.3"
  }
 },
 "nbformat": 4,
 "nbformat_minor": 2
}
